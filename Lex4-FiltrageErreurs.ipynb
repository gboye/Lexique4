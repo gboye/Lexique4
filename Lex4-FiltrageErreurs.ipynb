{
 "cells": [
  {
   "cell_type": "code",
   "execution_count": 90,
   "metadata": {},
   "outputs": [],
   "source": [
    "import pandas as pd\n",
    "from IPython.display import display"
   ]
  },
  {
   "cell_type": "code",
   "execution_count": 91,
   "metadata": {},
   "outputs": [
    {
     "data": {
      "text/html": [
       "<div>\n",
       "<style scoped>\n",
       "    .dataframe tbody tr th:only-of-type {\n",
       "        vertical-align: middle;\n",
       "    }\n",
       "\n",
       "    .dataframe tbody tr th {\n",
       "        vertical-align: top;\n",
       "    }\n",
       "\n",
       "    .dataframe thead th {\n",
       "        text-align: right;\n",
       "    }\n",
       "</style>\n",
       "<table border=\"1\" class=\"dataframe\">\n",
       "  <thead>\n",
       "    <tr style=\"text-align: right;\">\n",
       "      <th></th>\n",
       "      <th>graphie</th>\n",
       "      <th>lemme</th>\n",
       "      <th>cat</th>\n",
       "      <th>infover</th>\n",
       "      <th>genre</th>\n",
       "      <th>nombre</th>\n",
       "      <th>occurrences</th>\n",
       "    </tr>\n",
       "  </thead>\n",
       "  <tbody>\n",
       "    <tr>\n",
       "      <th>0</th>\n",
       "      <td>fossiles</td>\n",
       "      <td>fossile</td>\n",
       "      <td>ADJ</td>\n",
       "      <td>NaN</td>\n",
       "      <td>NaN</td>\n",
       "      <td>p</td>\n",
       "      <td>41.0</td>\n",
       "    </tr>\n",
       "    <tr>\n",
       "      <th>1</th>\n",
       "      <td>clopes</td>\n",
       "      <td>cloper</td>\n",
       "      <td>VER</td>\n",
       "      <td>sub:pre:2</td>\n",
       "      <td>NaN</td>\n",
       "      <td>s</td>\n",
       "      <td>1.0</td>\n",
       "    </tr>\n",
       "    <tr>\n",
       "      <th>2</th>\n",
       "      <td>ardeurs</td>\n",
       "      <td>ardeur</td>\n",
       "      <td>NOM</td>\n",
       "      <td>NaN</td>\n",
       "      <td>f</td>\n",
       "      <td>p</td>\n",
       "      <td>143.0</td>\n",
       "    </tr>\n",
       "    <tr>\n",
       "      <th>3</th>\n",
       "      <td>translations</td>\n",
       "      <td>translation</td>\n",
       "      <td>NOM</td>\n",
       "      <td>NaN</td>\n",
       "      <td>NaN</td>\n",
       "      <td>NaN</td>\n",
       "      <td>3.0</td>\n",
       "    </tr>\n",
       "    <tr>\n",
       "      <th>4</th>\n",
       "      <td>antidrogue</td>\n",
       "      <td>antidrogue</td>\n",
       "      <td>ADJ</td>\n",
       "      <td>NaN</td>\n",
       "      <td>m</td>\n",
       "      <td>s</td>\n",
       "      <td>36.0</td>\n",
       "    </tr>\n",
       "  </tbody>\n",
       "</table>\n",
       "</div>"
      ],
      "text/plain": [
       "        graphie        lemme  cat    infover genre nombre  occurrences\n",
       "0      fossiles      fossile  ADJ        NaN   NaN      p         41.0\n",
       "1        clopes       cloper  VER  sub:pre:2   NaN      s          1.0\n",
       "2       ardeurs       ardeur  NOM        NaN     f      p        143.0\n",
       "3  translations  translation  NOM        NaN   NaN    NaN          3.0\n",
       "4    antidrogue   antidrogue  ADJ        NaN     m      s         36.0"
      ]
     },
     "execution_count": 91,
     "metadata": {},
     "output_type": "execute_result"
    }
   ],
   "source": [
    "rep=\"/Users/gilles/Downloads/\"\n",
    "fLexFilms4=rep+\"Lexique4_min+filtr+cat+separ+corr3.tsv\"\n",
    "df=pd.read_csv(filepath_or_buffer=fLexFilms4,sep=\"\\t\",header=None,skip_blank_lines=True,encoding=\"utf8\")\n",
    "df.columns=\"graphie lemme cat infover genre nombre occurrences\".split(\" \")\n",
    "df.head()"
   ]
  },
  {
   "cell_type": "raw",
   "metadata": {},
   "source": [
    "df[\"graphie\"]=df[\"graphie\"].astype(\"unicode\")\n",
    "df[\"graphie\"] = df[\"graphie\"].apply(lambda x: x.encode('utf-8').strip())\n",
    "df.info()"
   ]
  },
  {
   "cell_type": "code",
   "execution_count": 92,
   "metadata": {},
   "outputs": [],
   "source": [
    "def bilanDF(lDF,title=\"cas\"):\n",
    "    print \"%s : %d\"%(title,len(lDF))\n",
    "    display(lDF.head())\n",
    "    return "
   ]
  },
  {
   "cell_type": "markdown",
   "metadata": {},
   "source": [
    "# Contrôles de cohérence"
   ]
  },
  {
   "cell_type": "code",
   "execution_count": 93,
   "metadata": {},
   "outputs": [],
   "source": [
    "# Default value of display.max_rows is 10 i.e. at max 10 rows will be printed.\n",
    "# Set it None to display all rows in the dataframe\n",
    "pdMaxRows=pd.options.display.max_rows\n",
    "pd.set_option('display.max_rows', 30)"
   ]
  },
  {
   "cell_type": "markdown",
   "metadata": {},
   "source": [
    "## Genre & Nombre\n",
    "Pour les adjectifs et les noms, on cherche toutes les formes qui ont \n",
    "- un genre explicite en dehors de m, f \n",
    "- un nombre explicite en dehors de s, p"
   ]
  },
  {
   "cell_type": "markdown",
   "metadata": {},
   "source": [
    "### Genre"
   ]
  },
  {
   "cell_type": "code",
   "execution_count": 94,
   "metadata": {},
   "outputs": [
    {
     "name": "stdout",
     "output_type": "stream",
     "text": [
      "Substantifs hors m/f : 2\n"
     ]
    },
    {
     "data": {
      "text/html": [
       "<div>\n",
       "<style scoped>\n",
       "    .dataframe tbody tr th:only-of-type {\n",
       "        vertical-align: middle;\n",
       "    }\n",
       "\n",
       "    .dataframe tbody tr th {\n",
       "        vertical-align: top;\n",
       "    }\n",
       "\n",
       "    .dataframe thead th {\n",
       "        text-align: right;\n",
       "    }\n",
       "</style>\n",
       "<table border=\"1\" class=\"dataframe\">\n",
       "  <thead>\n",
       "    <tr style=\"text-align: right;\">\n",
       "      <th></th>\n",
       "      <th>graphie</th>\n",
       "      <th>lemme</th>\n",
       "      <th>cat</th>\n",
       "      <th>infover</th>\n",
       "      <th>genre</th>\n",
       "      <th>nombre</th>\n",
       "      <th>occurrences</th>\n",
       "    </tr>\n",
       "  </thead>\n",
       "  <tbody>\n",
       "    <tr>\n",
       "      <th>96511</th>\n",
       "      <td>gluant</td>\n",
       "      <td>gluant</td>\n",
       "      <td>ADJ</td>\n",
       "      <td>par:p</td>\n",
       "      <td>e</td>\n",
       "      <td>r</td>\n",
       "      <td>24.0</td>\n",
       "    </tr>\n",
       "    <tr>\n",
       "      <th>157666</th>\n",
       "      <td>attrayant</td>\n",
       "      <td>attrayant</td>\n",
       "      <td>ADJ</td>\n",
       "      <td>par:p</td>\n",
       "      <td>e</td>\n",
       "      <td>r</td>\n",
       "      <td>16.0</td>\n",
       "    </tr>\n",
       "  </tbody>\n",
       "</table>\n",
       "</div>"
      ],
      "text/plain": [
       "          graphie      lemme  cat infover genre nombre  occurrences\n",
       "96511      gluant     gluant  ADJ   par:p     e      r         24.0\n",
       "157666  attrayant  attrayant  ADJ   par:p     e      r         16.0"
      ]
     },
     "metadata": {},
     "output_type": "display_data"
    }
   ],
   "source": [
    "condGenre=(df[\"cat\"].isin([\"NOM\",\"ADJ\"]))&(df[\"genre\"].notnull())&(~df[\"genre\"].isin([\"f\",\"m\"]))\n",
    "bilanDF(df[condGenre],\"Substantifs hors m/f\")"
   ]
  },
  {
   "cell_type": "markdown",
   "metadata": {},
   "source": [
    "### Nombre"
   ]
  },
  {
   "cell_type": "code",
   "execution_count": 95,
   "metadata": {},
   "outputs": [
    {
     "name": "stdout",
     "output_type": "stream",
     "text": [
      "Substantifs hors s/p : 2\n"
     ]
    },
    {
     "data": {
      "text/html": [
       "<div>\n",
       "<style scoped>\n",
       "    .dataframe tbody tr th:only-of-type {\n",
       "        vertical-align: middle;\n",
       "    }\n",
       "\n",
       "    .dataframe tbody tr th {\n",
       "        vertical-align: top;\n",
       "    }\n",
       "\n",
       "    .dataframe thead th {\n",
       "        text-align: right;\n",
       "    }\n",
       "</style>\n",
       "<table border=\"1\" class=\"dataframe\">\n",
       "  <thead>\n",
       "    <tr style=\"text-align: right;\">\n",
       "      <th></th>\n",
       "      <th>graphie</th>\n",
       "      <th>lemme</th>\n",
       "      <th>cat</th>\n",
       "      <th>infover</th>\n",
       "      <th>genre</th>\n",
       "      <th>nombre</th>\n",
       "      <th>occurrences</th>\n",
       "    </tr>\n",
       "  </thead>\n",
       "  <tbody>\n",
       "    <tr>\n",
       "      <th>96511</th>\n",
       "      <td>gluant</td>\n",
       "      <td>gluant</td>\n",
       "      <td>ADJ</td>\n",
       "      <td>par:p</td>\n",
       "      <td>e</td>\n",
       "      <td>r</td>\n",
       "      <td>24.0</td>\n",
       "    </tr>\n",
       "    <tr>\n",
       "      <th>157666</th>\n",
       "      <td>attrayant</td>\n",
       "      <td>attrayant</td>\n",
       "      <td>ADJ</td>\n",
       "      <td>par:p</td>\n",
       "      <td>e</td>\n",
       "      <td>r</td>\n",
       "      <td>16.0</td>\n",
       "    </tr>\n",
       "  </tbody>\n",
       "</table>\n",
       "</div>"
      ],
      "text/plain": [
       "          graphie      lemme  cat infover genre nombre  occurrences\n",
       "96511      gluant     gluant  ADJ   par:p     e      r         24.0\n",
       "157666  attrayant  attrayant  ADJ   par:p     e      r         16.0"
      ]
     },
     "metadata": {},
     "output_type": "display_data"
    }
   ],
   "source": [
    "condNombre=(df[\"cat\"].isin([\"NOM\",\"ADJ\"]))&(df[\"nombre\"].notnull())&(~df[\"nombre\"].isin([\"s\",\"p\"]))\n",
    "bilanDF(df[condNombre],\"Substantifs hors s/p\")"
   ]
  },
  {
   "cell_type": "markdown",
   "metadata": {},
   "source": [
    "Il y a seulement un problème avec *gluant* et *attrayant*, qui ont été classés comme ADJ, parce que l'étiquette par:pre a été mal traitée. Il y a un problème plus général avec les participes présents qui ont aussi un infover par:p avec le genre e et le nombre r, probablement suite à la même erreur."
   ]
  },
  {
   "cell_type": "markdown",
   "metadata": {},
   "source": [
    "#### Pluriels non marqués par s/x/z"
   ]
  },
  {
   "cell_type": "code",
   "execution_count": 96,
   "metadata": {},
   "outputs": [
    {
     "name": "stdout",
     "output_type": "stream",
     "text": [
      "Noms p : 189\n"
     ]
    },
    {
     "data": {
      "text/html": [
       "<div>\n",
       "<style scoped>\n",
       "    .dataframe tbody tr th:only-of-type {\n",
       "        vertical-align: middle;\n",
       "    }\n",
       "\n",
       "    .dataframe tbody tr th {\n",
       "        vertical-align: top;\n",
       "    }\n",
       "\n",
       "    .dataframe thead th {\n",
       "        text-align: right;\n",
       "    }\n",
       "</style>\n",
       "<table border=\"1\" class=\"dataframe\">\n",
       "  <thead>\n",
       "    <tr style=\"text-align: right;\">\n",
       "      <th></th>\n",
       "      <th>graphie</th>\n",
       "      <th>lemme</th>\n",
       "      <th>cat</th>\n",
       "      <th>infover</th>\n",
       "      <th>genre</th>\n",
       "      <th>nombre</th>\n",
       "      <th>occurrences</th>\n",
       "    </tr>\n",
       "  </thead>\n",
       "  <tbody>\n",
       "    <tr>\n",
       "      <th>419</th>\n",
       "      <td>condottieri</td>\n",
       "      <td>condottieri</td>\n",
       "      <td>NOM</td>\n",
       "      <td>NaN</td>\n",
       "      <td>m</td>\n",
       "      <td>p</td>\n",
       "      <td>4.0</td>\n",
       "    </tr>\n",
       "    <tr>\n",
       "      <th>4754</th>\n",
       "      <td>oeils-de-chat</td>\n",
       "      <td>oeils-de-chat</td>\n",
       "      <td>NOM</td>\n",
       "      <td>NaN</td>\n",
       "      <td>m</td>\n",
       "      <td>p</td>\n",
       "      <td>1.0</td>\n",
       "    </tr>\n",
       "    <tr>\n",
       "      <th>5510</th>\n",
       "      <td>missi dominici</td>\n",
       "      <td>missi dominici</td>\n",
       "      <td>NOM</td>\n",
       "      <td>NaN</td>\n",
       "      <td>m</td>\n",
       "      <td>p</td>\n",
       "      <td>1.0</td>\n",
       "    </tr>\n",
       "    <tr>\n",
       "      <th>6453</th>\n",
       "      <td>laissées-pour-compte</td>\n",
       "      <td>laissées-pour-compte</td>\n",
       "      <td>NOM</td>\n",
       "      <td>NaN</td>\n",
       "      <td>f</td>\n",
       "      <td>p</td>\n",
       "      <td>3.0</td>\n",
       "    </tr>\n",
       "    <tr>\n",
       "      <th>6733</th>\n",
       "      <td>pots-de-vin</td>\n",
       "      <td>pots-de-vin</td>\n",
       "      <td>NOM</td>\n",
       "      <td>NaN</td>\n",
       "      <td>m</td>\n",
       "      <td>p</td>\n",
       "      <td>589.0</td>\n",
       "    </tr>\n",
       "  </tbody>\n",
       "</table>\n",
       "</div>"
      ],
      "text/plain": [
       "                   graphie                 lemme  cat infover genre nombre  \\\n",
       "419            condottieri           condottieri  NOM     NaN     m      p   \n",
       "4754         oeils-de-chat         oeils-de-chat  NOM     NaN     m      p   \n",
       "5510        missi dominici        missi dominici  NOM     NaN     m      p   \n",
       "6453  laissées-pour-compte  laissées-pour-compte  NOM     NaN     f      p   \n",
       "6733           pots-de-vin           pots-de-vin  NOM     NaN     m      p   \n",
       "\n",
       "      occurrences  \n",
       "419           4.0  \n",
       "4754          1.0  \n",
       "5510          1.0  \n",
       "6453          3.0  \n",
       "6733        589.0  "
      ]
     },
     "metadata": {},
     "output_type": "display_data"
    }
   ],
   "source": [
    "condNomPl=(df[\"cat\"].isin([\"NOM\"]))&(~df[\"graphie\"].str[-1:].isin([u\"s\",u\"x\",u\"z\"]))&(df[\"nombre\"].isin([\"p\"]))\n",
    "bilanDF(df[condNomPl],\"Noms p\")"
   ]
  },
  {
   "cell_type": "markdown",
   "metadata": {},
   "source": [
    "## Infover"
   ]
  },
  {
   "cell_type": "markdown",
   "metadata": {},
   "source": [
    "### participes présent\n",
    "- l'étiquetage des participes présent n'est pas conforme à la nomenclature par:pre (3634 formes)\n",
    " - le découpage a donné infover=par:p et le re s'est retrouvé découpé entre nombre et genre"
   ]
  },
  {
   "cell_type": "code",
   "execution_count": 97,
   "metadata": {
    "scrolled": true
   },
   "outputs": [
    {
     "name": "stdout",
     "output_type": "stream",
     "text": [
      "infover=par:p : 3634\n"
     ]
    },
    {
     "data": {
      "text/html": [
       "<div>\n",
       "<style scoped>\n",
       "    .dataframe tbody tr th:only-of-type {\n",
       "        vertical-align: middle;\n",
       "    }\n",
       "\n",
       "    .dataframe tbody tr th {\n",
       "        vertical-align: top;\n",
       "    }\n",
       "\n",
       "    .dataframe thead th {\n",
       "        text-align: right;\n",
       "    }\n",
       "</style>\n",
       "<table border=\"1\" class=\"dataframe\">\n",
       "  <thead>\n",
       "    <tr style=\"text-align: right;\">\n",
       "      <th></th>\n",
       "      <th>graphie</th>\n",
       "      <th>lemme</th>\n",
       "      <th>cat</th>\n",
       "      <th>infover</th>\n",
       "      <th>genre</th>\n",
       "      <th>nombre</th>\n",
       "      <th>occurrences</th>\n",
       "    </tr>\n",
       "  </thead>\n",
       "  <tbody>\n",
       "    <tr>\n",
       "      <th>17</th>\n",
       "      <td>rivalisant</td>\n",
       "      <td>rivaliser</td>\n",
       "      <td>VER</td>\n",
       "      <td>par:p</td>\n",
       "      <td>e</td>\n",
       "      <td>r</td>\n",
       "      <td>22.0</td>\n",
       "    </tr>\n",
       "    <tr>\n",
       "      <th>64</th>\n",
       "      <td>surprotégeant</td>\n",
       "      <td>surprotéger</td>\n",
       "      <td>VER</td>\n",
       "      <td>par:p</td>\n",
       "      <td>e</td>\n",
       "      <td>r</td>\n",
       "      <td>1.0</td>\n",
       "    </tr>\n",
       "    <tr>\n",
       "      <th>183</th>\n",
       "      <td>migrant</td>\n",
       "      <td>migrer</td>\n",
       "      <td>VER</td>\n",
       "      <td>par:p</td>\n",
       "      <td>e</td>\n",
       "      <td>r</td>\n",
       "      <td>4.0</td>\n",
       "    </tr>\n",
       "    <tr>\n",
       "      <th>189</th>\n",
       "      <td>instruisant</td>\n",
       "      <td>instruire</td>\n",
       "      <td>VER</td>\n",
       "      <td>par:p</td>\n",
       "      <td>e</td>\n",
       "      <td>r</td>\n",
       "      <td>7.0</td>\n",
       "    </tr>\n",
       "    <tr>\n",
       "      <th>257</th>\n",
       "      <td>fredonnant</td>\n",
       "      <td>fredonner</td>\n",
       "      <td>VER</td>\n",
       "      <td>par:p</td>\n",
       "      <td>e</td>\n",
       "      <td>r</td>\n",
       "      <td>52.0</td>\n",
       "    </tr>\n",
       "  </tbody>\n",
       "</table>\n",
       "</div>"
      ],
      "text/plain": [
       "           graphie        lemme  cat infover genre nombre  occurrences\n",
       "17      rivalisant    rivaliser  VER   par:p     e      r         22.0\n",
       "64   surprotégeant  surprotéger  VER   par:p     e      r          1.0\n",
       "183        migrant       migrer  VER   par:p     e      r          4.0\n",
       "189    instruisant    instruire  VER   par:p     e      r          7.0\n",
       "257     fredonnant    fredonner  VER   par:p     e      r         52.0"
      ]
     },
     "metadata": {},
     "output_type": "display_data"
    }
   ],
   "source": [
    "condParPre=(df[\"infover\"]==\"par:p\")\n",
    "bilanDF(df[condParPre],\"infover=par:p\")"
   ]
  },
  {
   "cell_type": "markdown",
   "metadata": {},
   "source": [
    "### Infover sans verbe\n",
    "- infover ne devait pas être présent en dehors des formes verbales\n",
    " - pour les adjectifs, il faudrait sans doute prendre une décision pour ceux qui ressemblent à des participes passés\n",
    " - pour les noms, il faudrait probablement corriger\n"
   ]
  },
  {
   "cell_type": "code",
   "execution_count": 98,
   "metadata": {},
   "outputs": [
    {
     "name": "stdout",
     "output_type": "stream",
     "text": [
      "infover hors formes verbales : 228\n"
     ]
    },
    {
     "data": {
      "text/html": [
       "<div>\n",
       "<style scoped>\n",
       "    .dataframe tbody tr th:only-of-type {\n",
       "        vertical-align: middle;\n",
       "    }\n",
       "\n",
       "    .dataframe tbody tr th {\n",
       "        vertical-align: top;\n",
       "    }\n",
       "\n",
       "    .dataframe thead th {\n",
       "        text-align: right;\n",
       "    }\n",
       "</style>\n",
       "<table border=\"1\" class=\"dataframe\">\n",
       "  <thead>\n",
       "    <tr style=\"text-align: right;\">\n",
       "      <th></th>\n",
       "      <th>graphie</th>\n",
       "      <th>lemme</th>\n",
       "      <th>cat</th>\n",
       "      <th>infover</th>\n",
       "      <th>genre</th>\n",
       "      <th>nombre</th>\n",
       "      <th>occurrences</th>\n",
       "    </tr>\n",
       "  </thead>\n",
       "  <tbody>\n",
       "    <tr>\n",
       "      <th>538</th>\n",
       "      <td>cymbale</td>\n",
       "      <td>cymbale</td>\n",
       "      <td>NOM</td>\n",
       "      <td>ind:pre:1</td>\n",
       "      <td>NaN</td>\n",
       "      <td>s</td>\n",
       "      <td>2.0</td>\n",
       "    </tr>\n",
       "    <tr>\n",
       "      <th>1308</th>\n",
       "      <td>mitre</td>\n",
       "      <td>mitre</td>\n",
       "      <td>NOM</td>\n",
       "      <td>ind:pre:3</td>\n",
       "      <td>NaN</td>\n",
       "      <td>s</td>\n",
       "      <td>1.0</td>\n",
       "    </tr>\n",
       "    <tr>\n",
       "      <th>2360</th>\n",
       "      <td>camarades</td>\n",
       "      <td>camarade</td>\n",
       "      <td>NOM</td>\n",
       "      <td>sub:pre:2</td>\n",
       "      <td>NaN</td>\n",
       "      <td>s</td>\n",
       "      <td>19.0</td>\n",
       "    </tr>\n",
       "    <tr>\n",
       "      <th>3647</th>\n",
       "      <td>skipper</td>\n",
       "      <td>skipper</td>\n",
       "      <td>NOM</td>\n",
       "      <td>inf</td>\n",
       "      <td>NaN</td>\n",
       "      <td>NaN</td>\n",
       "      <td>12.0</td>\n",
       "    </tr>\n",
       "    <tr>\n",
       "      <th>5127</th>\n",
       "      <td>portraits</td>\n",
       "      <td>portrait</td>\n",
       "      <td>NOM</td>\n",
       "      <td>par:pas:</td>\n",
       "      <td>m</td>\n",
       "      <td>p</td>\n",
       "      <td>11.0</td>\n",
       "    </tr>\n",
       "  </tbody>\n",
       "</table>\n",
       "</div>"
      ],
      "text/plain": [
       "        graphie     lemme  cat    infover genre nombre  occurrences\n",
       "538     cymbale   cymbale  NOM  ind:pre:1   NaN      s          2.0\n",
       "1308      mitre     mitre  NOM  ind:pre:3   NaN      s          1.0\n",
       "2360  camarades  camarade  NOM  sub:pre:2   NaN      s         19.0\n",
       "3647    skipper   skipper  NOM        inf   NaN    NaN         12.0\n",
       "5127  portraits  portrait  NOM   par:pas:     m      p         11.0"
      ]
     },
     "metadata": {},
     "output_type": "display_data"
    }
   ],
   "source": [
    "condInfover=(~df[\"cat\"].isin([\"VER\",\"AUX\"]))&(df[\"infover\"].notnull())\n",
    "bilanDF(df[condInfover],\"infover hors formes verbales\")"
   ]
  },
  {
   "cell_type": "markdown",
   "metadata": {},
   "source": [
    "### Verbe sans infover\n",
    "Toutes les formes verbales devraient avoir un infover mais 2328 formes n'ont aucune information associée"
   ]
  },
  {
   "cell_type": "code",
   "execution_count": 99,
   "metadata": {
    "scrolled": true
   },
   "outputs": [
    {
     "name": "stdout",
     "output_type": "stream",
     "text": [
      "formes verbales sans infover : 2328\n"
     ]
    },
    {
     "data": {
      "text/html": [
       "<div>\n",
       "<style scoped>\n",
       "    .dataframe tbody tr th:only-of-type {\n",
       "        vertical-align: middle;\n",
       "    }\n",
       "\n",
       "    .dataframe tbody tr th {\n",
       "        vertical-align: top;\n",
       "    }\n",
       "\n",
       "    .dataframe thead th {\n",
       "        text-align: right;\n",
       "    }\n",
       "</style>\n",
       "<table border=\"1\" class=\"dataframe\">\n",
       "  <thead>\n",
       "    <tr style=\"text-align: right;\">\n",
       "      <th></th>\n",
       "      <th>graphie</th>\n",
       "      <th>lemme</th>\n",
       "      <th>cat</th>\n",
       "      <th>infover</th>\n",
       "      <th>genre</th>\n",
       "      <th>nombre</th>\n",
       "      <th>occurrences</th>\n",
       "    </tr>\n",
       "  </thead>\n",
       "  <tbody>\n",
       "    <tr>\n",
       "      <th>26</th>\n",
       "      <td>voulez</td>\n",
       "      <td>vouloir</td>\n",
       "      <td>VER</td>\n",
       "      <td>NaN</td>\n",
       "      <td>NaN</td>\n",
       "      <td>NaN</td>\n",
       "      <td>9.0</td>\n",
       "    </tr>\n",
       "    <tr>\n",
       "      <th>130</th>\n",
       "      <td>renifles</td>\n",
       "      <td>renifler</td>\n",
       "      <td>VER</td>\n",
       "      <td>NaN</td>\n",
       "      <td>NaN</td>\n",
       "      <td>NaN</td>\n",
       "      <td>1.0</td>\n",
       "    </tr>\n",
       "    <tr>\n",
       "      <th>141</th>\n",
       "      <td>donnera</td>\n",
       "      <td>donner</td>\n",
       "      <td>VER</td>\n",
       "      <td>NaN</td>\n",
       "      <td>NaN</td>\n",
       "      <td>NaN</td>\n",
       "      <td>2.0</td>\n",
       "    </tr>\n",
       "    <tr>\n",
       "      <th>368</th>\n",
       "      <td>tuerai</td>\n",
       "      <td>tuer</td>\n",
       "      <td>VER</td>\n",
       "      <td>NaN</td>\n",
       "      <td>NaN</td>\n",
       "      <td>NaN</td>\n",
       "      <td>1.0</td>\n",
       "    </tr>\n",
       "    <tr>\n",
       "      <th>421</th>\n",
       "      <td>alerter</td>\n",
       "      <td>alerter</td>\n",
       "      <td>VER</td>\n",
       "      <td>NaN</td>\n",
       "      <td>NaN</td>\n",
       "      <td>NaN</td>\n",
       "      <td>1.0</td>\n",
       "    </tr>\n",
       "  </tbody>\n",
       "</table>\n",
       "</div>"
      ],
      "text/plain": [
       "      graphie     lemme  cat infover genre nombre  occurrences\n",
       "26     voulez   vouloir  VER     NaN   NaN    NaN          9.0\n",
       "130  renifles  renifler  VER     NaN   NaN    NaN          1.0\n",
       "141   donnera    donner  VER     NaN   NaN    NaN          2.0\n",
       "368    tuerai      tuer  VER     NaN   NaN    NaN          1.0\n",
       "421   alerter   alerter  VER     NaN   NaN    NaN          1.0"
      ]
     },
     "metadata": {},
     "output_type": "display_data"
    }
   ],
   "source": [
    "condVerInfover=(df[\"cat\"].isin([\"VER\",\"AUX\"]))&(df[\"infover\"].isnull())\n",
    "bilanDF(df[condVerInfover],\"formes verbales sans infover\")"
   ]
  },
  {
   "cell_type": "markdown",
   "metadata": {},
   "source": [
    "### Cohérence des formes graphiques\n",
    "Tester la plausibilité de infover en fonction de la graphie\n",
    "- \"er\" n'est compatible qu'avec inf"
   ]
  },
  {
   "cell_type": "markdown",
   "metadata": {},
   "source": [
    "**⚠️ Problème avec la comparaison de chaine utf8, la condition d'égalité donne un message d'erreur à propos de l'encodage.**\n",
    "```\n",
    "condPP=(df[\"cat\"].isin([\"VER\",\"AUX\"]))&(df[\"graphie\"].str[-1:]==u\"é\")\n",
    "```\n",
    "**La comparaison avec une liste fonctionne...**"
   ]
  },
  {
   "cell_type": "markdown",
   "metadata": {},
   "source": [
    "### Infinitif\n",
    "- la forme en -er doit être associée à inf"
   ]
  },
  {
   "cell_type": "code",
   "execution_count": 100,
   "metadata": {},
   "outputs": [
    {
     "name": "stdout",
     "output_type": "stream",
     "text": [
      "infinitifs hors inf : 1201\n"
     ]
    },
    {
     "data": {
      "text/html": [
       "<div>\n",
       "<style scoped>\n",
       "    .dataframe tbody tr th:only-of-type {\n",
       "        vertical-align: middle;\n",
       "    }\n",
       "\n",
       "    .dataframe tbody tr th {\n",
       "        vertical-align: top;\n",
       "    }\n",
       "\n",
       "    .dataframe thead th {\n",
       "        text-align: right;\n",
       "    }\n",
       "</style>\n",
       "<table border=\"1\" class=\"dataframe\">\n",
       "  <thead>\n",
       "    <tr style=\"text-align: right;\">\n",
       "      <th></th>\n",
       "      <th>graphie</th>\n",
       "      <th>lemme</th>\n",
       "      <th>cat</th>\n",
       "      <th>infover</th>\n",
       "      <th>genre</th>\n",
       "      <th>nombre</th>\n",
       "      <th>occurrences</th>\n",
       "    </tr>\n",
       "  </thead>\n",
       "  <tbody>\n",
       "    <tr>\n",
       "      <th>134</th>\n",
       "      <td>empoisonner</td>\n",
       "      <td>empoisonner</td>\n",
       "      <td>VER</td>\n",
       "      <td>ind:pre:2</td>\n",
       "      <td>NaN</td>\n",
       "      <td>p</td>\n",
       "      <td>1.0</td>\n",
       "    </tr>\n",
       "    <tr>\n",
       "      <th>262</th>\n",
       "      <td>monter</td>\n",
       "      <td>monter</td>\n",
       "      <td>VER</td>\n",
       "      <td>imp:pre:2</td>\n",
       "      <td>NaN</td>\n",
       "      <td>p</td>\n",
       "      <td>1.0</td>\n",
       "    </tr>\n",
       "    <tr>\n",
       "      <th>407</th>\n",
       "      <td>dispenser</td>\n",
       "      <td>dispenser</td>\n",
       "      <td>VER</td>\n",
       "      <td>ind:pre:2</td>\n",
       "      <td>NaN</td>\n",
       "      <td>p</td>\n",
       "      <td>1.0</td>\n",
       "    </tr>\n",
       "    <tr>\n",
       "      <th>627</th>\n",
       "      <td>abuser</td>\n",
       "      <td>abuser</td>\n",
       "      <td>VER</td>\n",
       "      <td>ind:pre:2</td>\n",
       "      <td>NaN</td>\n",
       "      <td>p</td>\n",
       "      <td>1.0</td>\n",
       "    </tr>\n",
       "    <tr>\n",
       "      <th>666</th>\n",
       "      <td>nettoyer</td>\n",
       "      <td>nettoyer</td>\n",
       "      <td>VER</td>\n",
       "      <td>imp:pre:2</td>\n",
       "      <td>NaN</td>\n",
       "      <td>p</td>\n",
       "      <td>1.0</td>\n",
       "    </tr>\n",
       "  </tbody>\n",
       "</table>\n",
       "</div>"
      ],
      "text/plain": [
       "         graphie        lemme  cat    infover genre nombre  occurrences\n",
       "134  empoisonner  empoisonner  VER  ind:pre:2   NaN      p          1.0\n",
       "262       monter       monter  VER  imp:pre:2   NaN      p          1.0\n",
       "407    dispenser    dispenser  VER  ind:pre:2   NaN      p          1.0\n",
       "627       abuser       abuser  VER  ind:pre:2   NaN      p          1.0\n",
       "666     nettoyer     nettoyer  VER  imp:pre:2   NaN      p          1.0"
      ]
     },
     "metadata": {},
     "output_type": "display_data"
    }
   ],
   "source": [
    "condInf=((df[\"cat\"].isin([\"VER\",\"AUX\"]))\n",
    "         &(df[\"graphie\"].str[-2:]==\"er\")\n",
    "         &(~df[\"infover\"].isin([\"inf\",\"inf;\"]))&df[\"infover\"].notnull())\n",
    "bilanDF(df[condInf],\"infinitifs hors inf\")"
   ]
  },
  {
   "cell_type": "markdown",
   "metadata": {},
   "source": [
    "Les 1201 formes en -er précédentes sont classés comme des formes finies."
   ]
  },
  {
   "cell_type": "markdown",
   "metadata": {},
   "source": [
    "### Participes passé\n",
    "- les formes en -é.e.s doivent être associées à par:pas:\n",
    " - sauf exception pour les verbes en -éer"
   ]
  },
  {
   "cell_type": "code",
   "execution_count": 101,
   "metadata": {},
   "outputs": [
    {
     "name": "stdout",
     "output_type": "stream",
     "text": [
      "formes en é.e.s hors participes passé, hors verbes en -éer : 1163\n"
     ]
    },
    {
     "data": {
      "text/html": [
       "<div>\n",
       "<style scoped>\n",
       "    .dataframe tbody tr th:only-of-type {\n",
       "        vertical-align: middle;\n",
       "    }\n",
       "\n",
       "    .dataframe tbody tr th {\n",
       "        vertical-align: top;\n",
       "    }\n",
       "\n",
       "    .dataframe thead th {\n",
       "        text-align: right;\n",
       "    }\n",
       "</style>\n",
       "<table border=\"1\" class=\"dataframe\">\n",
       "  <thead>\n",
       "    <tr style=\"text-align: right;\">\n",
       "      <th></th>\n",
       "      <th>graphie</th>\n",
       "      <th>lemme</th>\n",
       "      <th>cat</th>\n",
       "      <th>infover</th>\n",
       "      <th>genre</th>\n",
       "      <th>nombre</th>\n",
       "      <th>occurrences</th>\n",
       "    </tr>\n",
       "  </thead>\n",
       "  <tbody>\n",
       "    <tr>\n",
       "      <th>90</th>\n",
       "      <td>nommé</td>\n",
       "      <td>nommer</td>\n",
       "      <td>VER</td>\n",
       "      <td>ind:imp:3</td>\n",
       "      <td>NaN</td>\n",
       "      <td>s</td>\n",
       "      <td>1.0</td>\n",
       "    </tr>\n",
       "    <tr>\n",
       "      <th>319</th>\n",
       "      <td>effrayée</td>\n",
       "      <td>effrayer</td>\n",
       "      <td>VER</td>\n",
       "      <td>ind:imp:3</td>\n",
       "      <td>NaN</td>\n",
       "      <td>s</td>\n",
       "      <td>1.0</td>\n",
       "    </tr>\n",
       "    <tr>\n",
       "      <th>445</th>\n",
       "      <td>nommé</td>\n",
       "      <td>nommer</td>\n",
       "      <td>VER</td>\n",
       "      <td>ind:imp:3</td>\n",
       "      <td>NaN</td>\n",
       "      <td>p</td>\n",
       "      <td>4.0</td>\n",
       "    </tr>\n",
       "    <tr>\n",
       "      <th>494</th>\n",
       "      <td>utilisées</td>\n",
       "      <td>utiliser</td>\n",
       "      <td>VER</td>\n",
       "      <td>ind:imp:3</td>\n",
       "      <td>NaN</td>\n",
       "      <td>s</td>\n",
       "      <td>1.0</td>\n",
       "    </tr>\n",
       "    <tr>\n",
       "      <th>659</th>\n",
       "      <td>défoncé</td>\n",
       "      <td>défoncer</td>\n",
       "      <td>VER</td>\n",
       "      <td>ind:imp:3</td>\n",
       "      <td>NaN</td>\n",
       "      <td>p</td>\n",
       "      <td>1.0</td>\n",
       "    </tr>\n",
       "  </tbody>\n",
       "</table>\n",
       "</div>"
      ],
      "text/plain": [
       "       graphie     lemme  cat    infover genre nombre  occurrences\n",
       "90       nommé    nommer  VER  ind:imp:3   NaN      s          1.0\n",
       "319   effrayée  effrayer  VER  ind:imp:3   NaN      s          1.0\n",
       "445      nommé    nommer  VER  ind:imp:3   NaN      p          4.0\n",
       "494  utilisées  utiliser  VER  ind:imp:3   NaN      s          1.0\n",
       "659    défoncé  défoncer  VER  ind:imp:3   NaN      p          1.0"
      ]
     },
     "metadata": {},
     "output_type": "display_data"
    },
    {
     "data": {
      "text/plain": [
       "None"
      ]
     },
     "metadata": {},
     "output_type": "display_data"
    },
    {
     "name": "stdout",
     "output_type": "stream",
     "text": [
      "formes en é.e.s hors participes passé pour les verbes en -éer : 48\n"
     ]
    },
    {
     "data": {
      "text/html": [
       "<div>\n",
       "<style scoped>\n",
       "    .dataframe tbody tr th:only-of-type {\n",
       "        vertical-align: middle;\n",
       "    }\n",
       "\n",
       "    .dataframe tbody tr th {\n",
       "        vertical-align: top;\n",
       "    }\n",
       "\n",
       "    .dataframe thead th {\n",
       "        text-align: right;\n",
       "    }\n",
       "</style>\n",
       "<table border=\"1\" class=\"dataframe\">\n",
       "  <thead>\n",
       "    <tr style=\"text-align: right;\">\n",
       "      <th></th>\n",
       "      <th>graphie</th>\n",
       "      <th>lemme</th>\n",
       "      <th>cat</th>\n",
       "      <th>infover</th>\n",
       "      <th>genre</th>\n",
       "      <th>nombre</th>\n",
       "      <th>occurrences</th>\n",
       "    </tr>\n",
       "  </thead>\n",
       "  <tbody>\n",
       "    <tr>\n",
       "      <th>2695</th>\n",
       "      <td>énuclée</td>\n",
       "      <td>énucléer</td>\n",
       "      <td>VER</td>\n",
       "      <td>ind:pre:1</td>\n",
       "      <td>NaN</td>\n",
       "      <td>s</td>\n",
       "      <td>1.0</td>\n",
       "    </tr>\n",
       "    <tr>\n",
       "      <th>5163</th>\n",
       "      <td>recrée</td>\n",
       "      <td>recréer</td>\n",
       "      <td>VER</td>\n",
       "      <td>imp:pre:2</td>\n",
       "      <td>NaN</td>\n",
       "      <td>s</td>\n",
       "      <td>2.0</td>\n",
       "    </tr>\n",
       "    <tr>\n",
       "      <th>20384</th>\n",
       "      <td>crée</td>\n",
       "      <td>créer</td>\n",
       "      <td>VER</td>\n",
       "      <td>ind:pre:1</td>\n",
       "      <td>NaN</td>\n",
       "      <td>s</td>\n",
       "      <td>469.0</td>\n",
       "    </tr>\n",
       "    <tr>\n",
       "      <th>23874</th>\n",
       "      <td>guée</td>\n",
       "      <td>guéer</td>\n",
       "      <td>VER</td>\n",
       "      <td>ind:pre:3</td>\n",
       "      <td>NaN</td>\n",
       "      <td>s</td>\n",
       "      <td>4.0</td>\n",
       "    </tr>\n",
       "    <tr>\n",
       "      <th>33917</th>\n",
       "      <td>crée</td>\n",
       "      <td>créer</td>\n",
       "      <td>VER</td>\n",
       "      <td>imp:pre:2</td>\n",
       "      <td>NaN</td>\n",
       "      <td>s</td>\n",
       "      <td>239.0</td>\n",
       "    </tr>\n",
       "  </tbody>\n",
       "</table>\n",
       "</div>"
      ],
      "text/plain": [
       "       graphie     lemme  cat    infover genre nombre  occurrences\n",
       "2695   énuclée  énucléer  VER  ind:pre:1   NaN      s          1.0\n",
       "5163    recrée   recréer  VER  imp:pre:2   NaN      s          2.0\n",
       "20384     crée     créer  VER  ind:pre:1   NaN      s        469.0\n",
       "23874     guée     guéer  VER  ind:pre:3   NaN      s          4.0\n",
       "33917     crée     créer  VER  imp:pre:2   NaN      s        239.0"
      ]
     },
     "metadata": {},
     "output_type": "display_data"
    }
   ],
   "source": [
    "condNotPP=((df[\"cat\"].isin([\"VER\",\"AUX\"]))\n",
    "           &(~df[\"infover\"].isin([\"par:pas:\"])\n",
    "           &(df[\"infover\"].notnull())))\n",
    "\n",
    "condFinPP=((df[\"graphie\"].str[-1:].isin([u\"é\"]))\n",
    "           |(df[\"graphie\"].str[-2:].isin([u\"ée\",u\"és\"]))\n",
    "           |(df[\"graphie\"].str[-3:].isin([u\"ées\"])))\n",
    "condLemmeEER=(df[\"lemme\"].str[-3:].isin([u\"éer\"]))\n",
    "display(bilanDF(df[condNotPP&condFinPP&~condLemmeEER],\"formes en é.e.s hors participes passé, hors verbes en -éer\"))\n",
    "bilanDF(df[condNotPP&condFinPP&condLemmeEER],\"formes en é.e.s hors participes passé pour les verbes en -éer\")"
   ]
  },
  {
   "cell_type": "markdown",
   "metadata": {},
   "source": [
    "Sur les 48 formes repérées pour les verbes en -éer, certaines peuvent être incorrectes."
   ]
  },
  {
   "cell_type": "markdown",
   "metadata": {},
   "source": [
    "### 2PL et -ez\n",
    "Pour les formes 2PL, la finale doit être -ez sauf pour le passé simple\n",
    "- sauf êtes, dites, faites (non traitées)"
   ]
  },
  {
   "cell_type": "code",
   "execution_count": 102,
   "metadata": {},
   "outputs": [
    {
     "name": "stdout",
     "output_type": "stream",
     "text": [
      "2PL hors -ez : 1323\n"
     ]
    },
    {
     "data": {
      "text/html": [
       "<div>\n",
       "<style scoped>\n",
       "    .dataframe tbody tr th:only-of-type {\n",
       "        vertical-align: middle;\n",
       "    }\n",
       "\n",
       "    .dataframe tbody tr th {\n",
       "        vertical-align: top;\n",
       "    }\n",
       "\n",
       "    .dataframe thead th {\n",
       "        text-align: right;\n",
       "    }\n",
       "</style>\n",
       "<table border=\"1\" class=\"dataframe\">\n",
       "  <thead>\n",
       "    <tr style=\"text-align: right;\">\n",
       "      <th></th>\n",
       "      <th>graphie</th>\n",
       "      <th>lemme</th>\n",
       "      <th>cat</th>\n",
       "      <th>infover</th>\n",
       "      <th>genre</th>\n",
       "      <th>nombre</th>\n",
       "      <th>occurrences</th>\n",
       "    </tr>\n",
       "  </thead>\n",
       "  <tbody>\n",
       "    <tr>\n",
       "      <th>134</th>\n",
       "      <td>empoisonner</td>\n",
       "      <td>empoisonner</td>\n",
       "      <td>VER</td>\n",
       "      <td>ind:pre:2</td>\n",
       "      <td>NaN</td>\n",
       "      <td>p</td>\n",
       "      <td>1.0</td>\n",
       "    </tr>\n",
       "    <tr>\n",
       "      <th>262</th>\n",
       "      <td>monter</td>\n",
       "      <td>monter</td>\n",
       "      <td>VER</td>\n",
       "      <td>imp:pre:2</td>\n",
       "      <td>NaN</td>\n",
       "      <td>p</td>\n",
       "      <td>1.0</td>\n",
       "    </tr>\n",
       "    <tr>\n",
       "      <th>407</th>\n",
       "      <td>dispenser</td>\n",
       "      <td>dispenser</td>\n",
       "      <td>VER</td>\n",
       "      <td>ind:pre:2</td>\n",
       "      <td>NaN</td>\n",
       "      <td>p</td>\n",
       "      <td>1.0</td>\n",
       "    </tr>\n",
       "    <tr>\n",
       "      <th>627</th>\n",
       "      <td>abuser</td>\n",
       "      <td>abuser</td>\n",
       "      <td>VER</td>\n",
       "      <td>ind:pre:2</td>\n",
       "      <td>NaN</td>\n",
       "      <td>p</td>\n",
       "      <td>1.0</td>\n",
       "    </tr>\n",
       "    <tr>\n",
       "      <th>666</th>\n",
       "      <td>nettoyer</td>\n",
       "      <td>nettoyer</td>\n",
       "      <td>VER</td>\n",
       "      <td>imp:pre:2</td>\n",
       "      <td>NaN</td>\n",
       "      <td>p</td>\n",
       "      <td>1.0</td>\n",
       "    </tr>\n",
       "  </tbody>\n",
       "</table>\n",
       "</div>"
      ],
      "text/plain": [
       "         graphie        lemme  cat    infover genre nombre  occurrences\n",
       "134  empoisonner  empoisonner  VER  ind:pre:2   NaN      p          1.0\n",
       "262       monter       monter  VER  imp:pre:2   NaN      p          1.0\n",
       "407    dispenser    dispenser  VER  ind:pre:2   NaN      p          1.0\n",
       "627       abuser       abuser  VER  ind:pre:2   NaN      p          1.0\n",
       "666     nettoyer     nettoyer  VER  imp:pre:2   NaN      p          1.0"
      ]
     },
     "metadata": {},
     "output_type": "display_data"
    }
   ],
   "source": [
    "cond2P=((df[\"cat\"].isin([\"VER\",\"AUX\"]))\n",
    "        &(df[\"infover\"].str.contains(\"2\"))\n",
    "        &(~df[\"infover\"].str.contains(\"ind:pas\", na=False))\n",
    "        &(df[\"nombre\"]==\"p\"))\n",
    "\n",
    "condFin2P=(~df[\"graphie\"].str[-2:].isin([u\"ez\"]))\n",
    "bilanDF(df[cond2P&condFin2P],u\"2PL hors -ez\")"
   ]
  },
  {
   "cell_type": "markdown",
   "metadata": {},
   "source": [
    "### 1PL et -ons\n",
    "Pour les formes 1PL, la finale doit être -ons sauf pour le passé simple\n",
    " - exception sommes (non traitée)"
   ]
  },
  {
   "cell_type": "code",
   "execution_count": 103,
   "metadata": {},
   "outputs": [
    {
     "name": "stdout",
     "output_type": "stream",
     "text": [
      "1PL hors -ons : 61\n"
     ]
    },
    {
     "data": {
      "text/html": [
       "<div>\n",
       "<style scoped>\n",
       "    .dataframe tbody tr th:only-of-type {\n",
       "        vertical-align: middle;\n",
       "    }\n",
       "\n",
       "    .dataframe tbody tr th {\n",
       "        vertical-align: top;\n",
       "    }\n",
       "\n",
       "    .dataframe thead th {\n",
       "        text-align: right;\n",
       "    }\n",
       "</style>\n",
       "<table border=\"1\" class=\"dataframe\">\n",
       "  <thead>\n",
       "    <tr style=\"text-align: right;\">\n",
       "      <th></th>\n",
       "      <th>graphie</th>\n",
       "      <th>lemme</th>\n",
       "      <th>cat</th>\n",
       "      <th>infover</th>\n",
       "      <th>genre</th>\n",
       "      <th>nombre</th>\n",
       "      <th>occurrences</th>\n",
       "    </tr>\n",
       "  </thead>\n",
       "  <tbody>\n",
       "    <tr>\n",
       "      <th>566</th>\n",
       "      <td>accordes</td>\n",
       "      <td>accorder</td>\n",
       "      <td>VER</td>\n",
       "      <td>ind:pre:1</td>\n",
       "      <td>NaN</td>\n",
       "      <td>p</td>\n",
       "      <td>1.0</td>\n",
       "    </tr>\n",
       "    <tr>\n",
       "      <th>1776</th>\n",
       "      <td>couvres</td>\n",
       "      <td>couvrir</td>\n",
       "      <td>VER</td>\n",
       "      <td>ind:pre:1</td>\n",
       "      <td>NaN</td>\n",
       "      <td>p</td>\n",
       "      <td>1.0</td>\n",
       "    </tr>\n",
       "    <tr>\n",
       "      <th>3404</th>\n",
       "      <td>laisses</td>\n",
       "      <td>laisser</td>\n",
       "      <td>VER</td>\n",
       "      <td>ind:pre:1</td>\n",
       "      <td>NaN</td>\n",
       "      <td>p</td>\n",
       "      <td>16.0</td>\n",
       "    </tr>\n",
       "    <tr>\n",
       "      <th>6524</th>\n",
       "      <td>indiques</td>\n",
       "      <td>indiquer</td>\n",
       "      <td>VER</td>\n",
       "      <td>ind:pre:1</td>\n",
       "      <td>NaN</td>\n",
       "      <td>p</td>\n",
       "      <td>1.0</td>\n",
       "    </tr>\n",
       "    <tr>\n",
       "      <th>10491</th>\n",
       "      <td>trouves</td>\n",
       "      <td>trouver</td>\n",
       "      <td>VER</td>\n",
       "      <td>ind:pre:1</td>\n",
       "      <td>NaN</td>\n",
       "      <td>p</td>\n",
       "      <td>1.0</td>\n",
       "    </tr>\n",
       "  </tbody>\n",
       "</table>\n",
       "</div>"
      ],
      "text/plain": [
       "        graphie     lemme  cat    infover genre nombre  occurrences\n",
       "566    accordes  accorder  VER  ind:pre:1   NaN      p          1.0\n",
       "1776    couvres   couvrir  VER  ind:pre:1   NaN      p          1.0\n",
       "3404    laisses   laisser  VER  ind:pre:1   NaN      p         16.0\n",
       "6524   indiques  indiquer  VER  ind:pre:1   NaN      p          1.0\n",
       "10491   trouves   trouver  VER  ind:pre:1   NaN      p          1.0"
      ]
     },
     "metadata": {},
     "output_type": "display_data"
    }
   ],
   "source": [
    "cond1P=((df[\"cat\"].isin([\"VER\",\"AUX\"]))\n",
    "        &(df[\"infover\"].str.contains(\"1\"))\n",
    "        &(~df[\"infover\"].str.contains(\"ind:pas\", na=False))\n",
    "        &(df[\"nombre\"]==\"p\"))\n",
    "\n",
    "condFin1P=(~df[\"graphie\"].str[-3:].isin([u\"ons\"]))\n",
    "bilanDF(df[cond1P&condFin1P],\"1PL hors -ons\")"
   ]
  },
  {
   "cell_type": "code",
   "execution_count": null,
   "metadata": {},
   "outputs": [],
   "source": []
  },
  {
   "cell_type": "code",
   "execution_count": null,
   "metadata": {},
   "outputs": [],
   "source": []
  }
 ],
 "metadata": {
  "kernelspec": {
   "display_name": "Python 2",
   "language": "python",
   "name": "python2"
  },
  "language_info": {
   "codemirror_mode": {
    "name": "ipython",
    "version": 2
   },
   "file_extension": ".py",
   "mimetype": "text/x-python",
   "name": "python",
   "nbconvert_exporter": "python",
   "pygments_lexer": "ipython2",
   "version": "2.7.15"
  }
 },
 "nbformat": 4,
 "nbformat_minor": 2
}
