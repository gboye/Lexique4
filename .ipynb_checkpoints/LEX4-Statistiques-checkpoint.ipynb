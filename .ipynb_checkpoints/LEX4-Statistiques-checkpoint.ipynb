{
 "cells": [
  {
   "cell_type": "code",
   "execution_count": 1,
   "metadata": {},
   "outputs": [],
   "source": [
    "import pandas as pd\n",
    "import numpy as np\n",
    "import matplotlib.pyplot as plt\n",
    "import matplotlib.ticker as ticker\n",
    "import matplotlib.transforms as transforms\n",
    "from IPython.display import display"
   ]
  },
  {
   "cell_type": "code",
   "execution_count": 2,
   "metadata": {},
   "outputs": [],
   "source": [
    "%matplotlib inline"
   ]
  },
  {
   "cell_type": "code",
   "execution_count": 3,
   "metadata": {},
   "outputs": [],
   "source": [
    "import seaborn as sns\n",
    "sns.set_style(\"darkgrid\")\n",
    "sns.set_context(\"paper\", font_scale=1.5, rc={\"lines.linewidth\": 2.5})\n",
    "sns.set_palette(\"hls\")\n",
    "sns.set_color_codes(\"muted\")\n",
    "#sns.palplot(sns.color_palette(\"hls\", 8))\n",
    "#sns.palplot(sns.color_palette(\"husl\", 8))"
   ]
  },
  {
   "cell_type": "code",
   "execution_count": 4,
   "metadata": {},
   "outputs": [],
   "source": [
    "fLexFilms4=\"/Users/gilles/Downloads/Lexique4_min+filtr+cat+separ+corr3.tsv\""
   ]
  },
  {
   "cell_type": "code",
   "execution_count": 5,
   "metadata": {},
   "outputs": [],
   "source": [
    "dfLexFilms4=pd.read_csv(filepath_or_buffer=fLexFilms4,sep=\"\\t\",header=None,skip_blank_lines=True,encoding=\"utf8\")\n",
    "dfLexFilms4.columns=\"graphie lemme cat infover genre nombre occurrences\".split(\" \")"
   ]
  },
  {
   "cell_type": "code",
   "execution_count": 6,
   "metadata": {},
   "outputs": [],
   "source": [
    "dfLex4=dfLexFilms4.sort_values([\"lemme\",\"cat\"]).reset_index().drop(columns=\"index\")"
   ]
  },
  {
   "cell_type": "code",
   "execution_count": 7,
   "metadata": {},
   "outputs": [
    {
     "data": {
      "text/html": [
       "<div>\n",
       "<style scoped>\n",
       "    .dataframe tbody tr th:only-of-type {\n",
       "        vertical-align: middle;\n",
       "    }\n",
       "\n",
       "    .dataframe tbody tr th {\n",
       "        vertical-align: top;\n",
       "    }\n",
       "\n",
       "    .dataframe thead th {\n",
       "        text-align: right;\n",
       "    }\n",
       "</style>\n",
       "<table border=\"1\" class=\"dataframe\">\n",
       "  <thead>\n",
       "    <tr style=\"text-align: right;\">\n",
       "      <th></th>\n",
       "      <th>graphie</th>\n",
       "      <th>lemme</th>\n",
       "      <th>cat</th>\n",
       "      <th>infover</th>\n",
       "      <th>genre</th>\n",
       "      <th>nombre</th>\n",
       "      <th>occurrences</th>\n",
       "      <th>rangFW</th>\n",
       "    </tr>\n",
       "  </thead>\n",
       "  <tbody>\n",
       "    <tr>\n",
       "      <th>0</th>\n",
       "      <td>de</td>\n",
       "      <td>de</td>\n",
       "      <td>PRE</td>\n",
       "      <td>NaN</td>\n",
       "      <td>NaN</td>\n",
       "      <td>NaN</td>\n",
       "      <td>8309303.0</td>\n",
       "      <td>1.0</td>\n",
       "    </tr>\n",
       "    <tr>\n",
       "      <th>1</th>\n",
       "      <td>je</td>\n",
       "      <td>je</td>\n",
       "      <td>PRO:per</td>\n",
       "      <td>NaN</td>\n",
       "      <td>NaN</td>\n",
       "      <td>s</td>\n",
       "      <td>8027518.0</td>\n",
       "      <td>2.0</td>\n",
       "    </tr>\n",
       "    <tr>\n",
       "      <th>2</th>\n",
       "      <td>est</td>\n",
       "      <td>être</td>\n",
       "      <td>VER</td>\n",
       "      <td>ind:pre:3</td>\n",
       "      <td>NaN</td>\n",
       "      <td>s</td>\n",
       "      <td>6080693.0</td>\n",
       "      <td>3.0</td>\n",
       "    </tr>\n",
       "    <tr>\n",
       "      <th>3</th>\n",
       "      <td>pas</td>\n",
       "      <td>pas</td>\n",
       "      <td>ADV</td>\n",
       "      <td>NaN</td>\n",
       "      <td>NaN</td>\n",
       "      <td>NaN</td>\n",
       "      <td>5701766.0</td>\n",
       "      <td>4.0</td>\n",
       "    </tr>\n",
       "    <tr>\n",
       "      <th>4</th>\n",
       "      <td>la</td>\n",
       "      <td>la</td>\n",
       "      <td>ART:def</td>\n",
       "      <td>NaN</td>\n",
       "      <td>f</td>\n",
       "      <td>s</td>\n",
       "      <td>4396181.0</td>\n",
       "      <td>5.0</td>\n",
       "    </tr>\n",
       "  </tbody>\n",
       "</table>\n",
       "</div>"
      ],
      "text/plain": [
       "  graphie lemme      cat    infover genre nombre  occurrences  rangFW\n",
       "0      de    de      PRE        NaN   NaN    NaN    8309303.0     1.0\n",
       "1      je    je  PRO:per        NaN   NaN      s    8027518.0     2.0\n",
       "2     est  être      VER  ind:pre:3   NaN      s    6080693.0     3.0\n",
       "3     pas   pas      ADV        NaN   NaN    NaN    5701766.0     4.0\n",
       "4      la    la  ART:def        NaN     f      s    4396181.0     5.0"
      ]
     },
     "execution_count": 7,
     "metadata": {},
     "output_type": "execute_result"
    }
   ],
   "source": [
    "dfLex4[\"rangFW\"]=dfLex4[\"occurrences\"].rank(ascending=False)\n",
    "dfLex4=dfLex4[dfLex4[\"cat\"].notnull()].sort_values(\"rangFW\").reset_index().drop(columns=\"index\")\n",
    "dfLex4.head()"
   ]
  },
  {
   "cell_type": "markdown",
   "metadata": {},
   "source": [
    "# Comparaison de la distribution des fréquences avec Zipf"
   ]
  },
  {
   "cell_type": "raw",
   "metadata": {
    "scrolled": true
   },
   "source": [
    "#\n",
    "# Adapted from\n",
    "# https://stackoverflow.com/questions/43837179/best-fit-line-on-log-log-scales-in-python-2-7/43838500\n",
    "#\n",
    "fig=plt.figure()\n",
    "ax = fig.add_subplot(111)\n",
    "\n",
    "lRang=dfL4[\"V\"][\"rangFWV\"]\n",
    "lOccurrences=dfL4[\"V\"][\"occurrences\"]\n",
    "\n",
    "logOccurrences=np.log(lOccurrences)\n",
    "logRang=np.log(lRang)\n",
    "\n",
    "m, c = np.polyfit(logRang, logOccurrences, 1)\n",
    "yZipf = np.exp(m*logRang + c)\n",
    "\n",
    "plt.plot(lRang, lOccurrences, color = 'r')\n",
    "plt.plot(lRang, yZipf, ':')\n",
    "\n",
    "ax.set_yscale('log')\n",
    "ax.set_xscale('log')\n",
    "#slope, intercept = np.polyfit(logA, logB, 1)\n",
    "plt.xlabel(\"Pre_referer\")\n",
    "plt.ylabel(\"Popularity\")\n",
    "ax.set_title('Pre Referral URL Popularity distribution')\n",
    "plt.show()"
   ]
  },
  {
   "cell_type": "code",
   "execution_count": 22,
   "metadata": {},
   "outputs": [],
   "source": [
    "#\n",
    "# Adapted from\n",
    "# https://stackoverflow.com/questions/43837179/best-fit-line-on-log-log-scales-in-python-2-7/43838500\n",
    "#\n",
    "def plotZipf(lDF,rankColumn,graphLabel=u\"Formes dans Films\",lQuartiles=[\"All\"]):\n",
    "    fig=plt.figure()\n",
    "    ax = fig.add_subplot(111)\n",
    "\n",
    "    lRang=lDF[rankColumn]\n",
    "    lOccurrences=lDF[\"occurrences\"]\n",
    "\n",
    "    logOccurrences=np.log(lOccurrences)\n",
    "    logRang=np.log(lRang)\n",
    "    lQuart=len(logRang)/4\n",
    "\n",
    "    mAll, cAll = np.polyfit(logRang, logOccurrences, 1)\n",
    "    yZipfGen = np.exp(mAll*logRang + cAll)\n",
    "    mQ1, cQ1 = np.polyfit(logRang[:lQuart], logOccurrences[:lQuart], 1)\n",
    "    yZipfQ1 = np.exp(mQ1*logRang + cQ1)\n",
    "    mQ2, cQ2 = np.polyfit(logRang[lQuart:2*lQuart], logOccurrences[lQuart:2*lQuart], 1)\n",
    "    yZipfQ2 = np.exp(mQ2*logRang + cQ2)\n",
    "    mQ3, cQ3 = np.polyfit(logRang[2*lQuart:3*lQuart], logOccurrences[2*lQuart:3*lQuart], 1)\n",
    "    yZipfQ3 = np.exp(mQ3*logRang + cQ3)\n",
    "    mQ4, cQ4 = np.polyfit(logRang[3*lQuart:], logOccurrences[3*lQuart:], 1)\n",
    "    yZipfQ4 = np.exp(mQ4*logRang + cQ4)\n",
    "    \n",
    "    print u\"Coefficient général %0.2f\\n\\tQ1 %0.2f\\n\\tQ2 %0.2f\\n\\tQ3 %0.2f\\n\\tQ4 %0.2f\"%(mAll, mQ1, mQ2, mQ3, mQ4)\n",
    "\n",
    "    plt.plot(lRang, lOccurrences,label='_nolegend_')\n",
    "    if \"All\" in lQuartiles:\n",
    "        plt.plot(lRang, yZipfGen,\":\",label=\"All\")\n",
    "    if \"Q1\" in lQuartiles:\n",
    "        plt.plot(lRang, yZipfQ1, ':',label=\"Q1\")\n",
    "    if \"Q2\" in lQuartiles:\n",
    "        plt.plot(lRang, yZipfQ2, ':',label=\"Q2\")\n",
    "    if \"Q3\" in lQuartiles:\n",
    "        plt.plot(lRang, yZipfQ3, ':',label=\"Q3\")\n",
    "    if \"Q4\" in lQuartiles:\n",
    "        plt.plot(lRang, yZipfQ4, ':',label=\"Q4\")\n",
    "\n",
    "    ax.set_yscale('log')\n",
    "    ax.set_xscale('log')\n",
    "    #slope, intercept = np.polyfit(logA, logB, 1)\n",
    "    plt.xlabel(\"Rang\")\n",
    "    plt.ylabel(\"Occurrences\")\n",
    "    ax.set_title(graphLabel)\n",
    "    ax.legend()\n",
    "    plt.show()"
   ]
  },
  {
   "cell_type": "markdown",
   "metadata": {},
   "source": [
    "## Comparaison de l'ensemble du lexique\n",
    "le coefficient de Zipf varie du simple au double entre le premier quartile 1.56 et le dernier 3.70"
   ]
  },
  {
   "cell_type": "code",
   "execution_count": 23,
   "metadata": {},
   "outputs": [
    {
     "name": "stdout",
     "output_type": "stream",
     "text": [
      "Coefficient général -2.26\n",
      "\tQ1 -1.56\n",
      "\tQ2 -2.75\n",
      "\tQ3 -3.52\n",
      "\tQ4 -3.70\n"
     ]
    },
    {
     "data": {
      "image/png": "[encoded data removed]",
      "text/plain": [
       "<Figure size 432x288 with 1 Axes>"
      ]
     },
     "metadata": {},
     "output_type": "display_data"
    }
   ],
   "source": [
    "plotZipf(dfLex4,\"rangFW\",lQuartiles=\"Q1 Q4\".split(\" \"))"
   ]
  },
  {
   "cell_type": "markdown",
   "metadata": {},
   "source": [
    "## Comparaisons par catégories"
   ]
  },
  {
   "cell_type": "code",
   "execution_count": 24,
   "metadata": {
    "scrolled": true
   },
   "outputs": [
    {
     "name": "stderr",
     "output_type": "stream",
     "text": [
      "/Users/gilles/opt/anaconda2/lib/python2.7/site-packages/pandas/core/indexing.py:362: SettingWithCopyWarning: \n",
      "A value is trying to be set on a copy of a slice from a DataFrame.\n",
      "Try using .loc[row_indexer,col_indexer] = value instead\n",
      "\n",
      "See the caveats in the documentation: http://pandas.pydata.org/pandas-docs/stable/indexing.html#indexing-view-versus-copy\n",
      "  self.obj[key] = _infer_fill_value(value)\n",
      "/Users/gilles/opt/anaconda2/lib/python2.7/site-packages/pandas/core/indexing.py:543: SettingWithCopyWarning: \n",
      "A value is trying to be set on a copy of a slice from a DataFrame.\n",
      "Try using .loc[row_indexer,col_indexer] = value instead\n",
      "\n",
      "See the caveats in the documentation: http://pandas.pydata.org/pandas-docs/stable/indexing.html#indexing-view-versus-copy\n",
      "  self.obj[item] = s\n"
     ]
    },
    {
     "name": "stdout",
     "output_type": "stream",
     "text": [
      "V\n"
     ]
    },
    {
     "data": {
      "text/html": [
       "<div>\n",
       "<style scoped>\n",
       "    .dataframe tbody tr th:only-of-type {\n",
       "        vertical-align: middle;\n",
       "    }\n",
       "\n",
       "    .dataframe tbody tr th {\n",
       "        vertical-align: top;\n",
       "    }\n",
       "\n",
       "    .dataframe thead th {\n",
       "        text-align: right;\n",
       "    }\n",
       "</style>\n",
       "<table border=\"1\" class=\"dataframe\">\n",
       "  <thead>\n",
       "    <tr style=\"text-align: right;\">\n",
       "      <th></th>\n",
       "      <th>graphie</th>\n",
       "      <th>lemme</th>\n",
       "      <th>cat</th>\n",
       "      <th>infover</th>\n",
       "      <th>genre</th>\n",
       "      <th>nombre</th>\n",
       "      <th>occurrences</th>\n",
       "      <th>rangFW</th>\n",
       "      <th>rangFWV</th>\n",
       "    </tr>\n",
       "  </thead>\n",
       "  <tbody>\n",
       "    <tr>\n",
       "      <th>0</th>\n",
       "      <td>est</td>\n",
       "      <td>être</td>\n",
       "      <td>VER</td>\n",
       "      <td>ind:pre:3</td>\n",
       "      <td>NaN</td>\n",
       "      <td>s</td>\n",
       "      <td>6080693.0</td>\n",
       "      <td>3.0</td>\n",
       "      <td>1.0</td>\n",
       "    </tr>\n",
       "    <tr>\n",
       "      <th>1</th>\n",
       "      <td>a</td>\n",
       "      <td>avoir</td>\n",
       "      <td>AUX</td>\n",
       "      <td>ind:pre:3</td>\n",
       "      <td>NaN</td>\n",
       "      <td>s</td>\n",
       "      <td>2139655.0</td>\n",
       "      <td>24.0</td>\n",
       "      <td>2.0</td>\n",
       "    </tr>\n",
       "    <tr>\n",
       "      <th>2</th>\n",
       "      <td>ai</td>\n",
       "      <td>avoir</td>\n",
       "      <td>AUX</td>\n",
       "      <td>ind:pre:1</td>\n",
       "      <td>NaN</td>\n",
       "      <td>s</td>\n",
       "      <td>1641324.0</td>\n",
       "      <td>26.0</td>\n",
       "      <td>3.0</td>\n",
       "    </tr>\n",
       "    <tr>\n",
       "      <th>3</th>\n",
       "      <td>a</td>\n",
       "      <td>avoir</td>\n",
       "      <td>VER</td>\n",
       "      <td>ind:pre:3</td>\n",
       "      <td>NaN</td>\n",
       "      <td>s</td>\n",
       "      <td>1528403.0</td>\n",
       "      <td>28.0</td>\n",
       "      <td>4.0</td>\n",
       "    </tr>\n",
       "    <tr>\n",
       "      <th>4</th>\n",
       "      <td>est</td>\n",
       "      <td>être</td>\n",
       "      <td>AUX</td>\n",
       "      <td>ind:pre:3</td>\n",
       "      <td>NaN</td>\n",
       "      <td>s</td>\n",
       "      <td>1030580.0</td>\n",
       "      <td>41.0</td>\n",
       "      <td>5.0</td>\n",
       "    </tr>\n",
       "  </tbody>\n",
       "</table>\n",
       "</div>"
      ],
      "text/plain": [
       "  graphie  lemme  cat    infover genre nombre  occurrences  rangFW  rangFWV\n",
       "0     est   être  VER  ind:pre:3   NaN      s    6080693.0     3.0      1.0\n",
       "1       a  avoir  AUX  ind:pre:3   NaN      s    2139655.0    24.0      2.0\n",
       "2      ai  avoir  AUX  ind:pre:1   NaN      s    1641324.0    26.0      3.0\n",
       "3       a  avoir  VER  ind:pre:3   NaN      s    1528403.0    28.0      4.0\n",
       "4     est   être  AUX  ind:pre:3   NaN      s    1030580.0    41.0      5.0"
      ]
     },
     "metadata": {},
     "output_type": "display_data"
    },
    {
     "name": "stdout",
     "output_type": "stream",
     "text": [
      "N\n"
     ]
    },
    {
     "data": {
      "text/html": [
       "<div>\n",
       "<style scoped>\n",
       "    .dataframe tbody tr th:only-of-type {\n",
       "        vertical-align: middle;\n",
       "    }\n",
       "\n",
       "    .dataframe tbody tr th {\n",
       "        vertical-align: top;\n",
       "    }\n",
       "\n",
       "    .dataframe thead th {\n",
       "        text-align: right;\n",
       "    }\n",
       "</style>\n",
       "<table border=\"1\" class=\"dataframe\">\n",
       "  <thead>\n",
       "    <tr style=\"text-align: right;\">\n",
       "      <th></th>\n",
       "      <th>graphie</th>\n",
       "      <th>lemme</th>\n",
       "      <th>cat</th>\n",
       "      <th>infover</th>\n",
       "      <th>genre</th>\n",
       "      <th>nombre</th>\n",
       "      <th>occurrences</th>\n",
       "      <th>rangFW</th>\n",
       "      <th>rangFWN</th>\n",
       "    </tr>\n",
       "  </thead>\n",
       "  <tbody>\n",
       "    <tr>\n",
       "      <th>0</th>\n",
       "      <td>chose</td>\n",
       "      <td>chose</td>\n",
       "      <td>NOM</td>\n",
       "      <td>NaN</td>\n",
       "      <td>f</td>\n",
       "      <td>s</td>\n",
       "      <td>494041.0</td>\n",
       "      <td>87.0</td>\n",
       "      <td>1.0</td>\n",
       "    </tr>\n",
       "    <tr>\n",
       "      <th>1</th>\n",
       "      <td>temps</td>\n",
       "      <td>temps</td>\n",
       "      <td>NOM</td>\n",
       "      <td>NaN</td>\n",
       "      <td>m</td>\n",
       "      <td>NaN</td>\n",
       "      <td>354682.0</td>\n",
       "      <td>122.0</td>\n",
       "      <td>2.0</td>\n",
       "    </tr>\n",
       "    <tr>\n",
       "      <th>2</th>\n",
       "      <td>besoin</td>\n",
       "      <td>besoin</td>\n",
       "      <td>NOM</td>\n",
       "      <td>NaN</td>\n",
       "      <td>m</td>\n",
       "      <td>s</td>\n",
       "      <td>332955.0</td>\n",
       "      <td>131.0</td>\n",
       "      <td>3.0</td>\n",
       "    </tr>\n",
       "    <tr>\n",
       "      <th>3</th>\n",
       "      <td>accord</td>\n",
       "      <td>accord</td>\n",
       "      <td>NOM</td>\n",
       "      <td>NaN</td>\n",
       "      <td>m</td>\n",
       "      <td>s</td>\n",
       "      <td>307708.0</td>\n",
       "      <td>144.0</td>\n",
       "      <td>4.0</td>\n",
       "    </tr>\n",
       "    <tr>\n",
       "      <th>4</th>\n",
       "      <td>vie</td>\n",
       "      <td>vie</td>\n",
       "      <td>NOM</td>\n",
       "      <td>NaN</td>\n",
       "      <td>f</td>\n",
       "      <td>s</td>\n",
       "      <td>303952.0</td>\n",
       "      <td>145.0</td>\n",
       "      <td>5.0</td>\n",
       "    </tr>\n",
       "  </tbody>\n",
       "</table>\n",
       "</div>"
      ],
      "text/plain": [
       "  graphie   lemme  cat infover genre nombre  occurrences  rangFW  rangFWN\n",
       "0   chose   chose  NOM     NaN     f      s     494041.0    87.0      1.0\n",
       "1   temps   temps  NOM     NaN     m    NaN     354682.0   122.0      2.0\n",
       "2  besoin  besoin  NOM     NaN     m      s     332955.0   131.0      3.0\n",
       "3  accord  accord  NOM     NaN     m      s     307708.0   144.0      4.0\n",
       "4     vie     vie  NOM     NaN     f      s     303952.0   145.0      5.0"
      ]
     },
     "metadata": {},
     "output_type": "display_data"
    },
    {
     "name": "stdout",
     "output_type": "stream",
     "text": [
      "A\n"
     ]
    },
    {
     "data": {
      "text/html": [
       "<div>\n",
       "<style scoped>\n",
       "    .dataframe tbody tr th:only-of-type {\n",
       "        vertical-align: middle;\n",
       "    }\n",
       "\n",
       "    .dataframe tbody tr th {\n",
       "        vertical-align: top;\n",
       "    }\n",
       "\n",
       "    .dataframe thead th {\n",
       "        text-align: right;\n",
       "    }\n",
       "</style>\n",
       "<table border=\"1\" class=\"dataframe\">\n",
       "  <thead>\n",
       "    <tr style=\"text-align: right;\">\n",
       "      <th></th>\n",
       "      <th>graphie</th>\n",
       "      <th>lemme</th>\n",
       "      <th>cat</th>\n",
       "      <th>infover</th>\n",
       "      <th>genre</th>\n",
       "      <th>nombre</th>\n",
       "      <th>occurrences</th>\n",
       "      <th>rangFW</th>\n",
       "      <th>rangFWA</th>\n",
       "    </tr>\n",
       "  </thead>\n",
       "  <tbody>\n",
       "    <tr>\n",
       "      <th>0</th>\n",
       "      <td>juste</td>\n",
       "      <td>juste</td>\n",
       "      <td>ADJ</td>\n",
       "      <td>NaN</td>\n",
       "      <td>NaN</td>\n",
       "      <td>s</td>\n",
       "      <td>323706.0</td>\n",
       "      <td>139.0</td>\n",
       "      <td>1.0</td>\n",
       "    </tr>\n",
       "    <tr>\n",
       "      <th>1</th>\n",
       "      <td>bon</td>\n",
       "      <td>bon</td>\n",
       "      <td>ADJ</td>\n",
       "      <td>NaN</td>\n",
       "      <td>m</td>\n",
       "      <td>s</td>\n",
       "      <td>297776.0</td>\n",
       "      <td>153.0</td>\n",
       "      <td>2.0</td>\n",
       "    </tr>\n",
       "    <tr>\n",
       "      <th>2</th>\n",
       "      <td>tout</td>\n",
       "      <td>tout</td>\n",
       "      <td>ADJ</td>\n",
       "      <td>NaN</td>\n",
       "      <td>m</td>\n",
       "      <td>s</td>\n",
       "      <td>286396.0</td>\n",
       "      <td>160.0</td>\n",
       "      <td>3.0</td>\n",
       "    </tr>\n",
       "    <tr>\n",
       "      <th>3</th>\n",
       "      <td>tous</td>\n",
       "      <td>tout</td>\n",
       "      <td>ADJ</td>\n",
       "      <td>NaN</td>\n",
       "      <td>m</td>\n",
       "      <td>p</td>\n",
       "      <td>282537.0</td>\n",
       "      <td>162.0</td>\n",
       "      <td>4.0</td>\n",
       "    </tr>\n",
       "    <tr>\n",
       "      <th>4</th>\n",
       "      <td>sûr</td>\n",
       "      <td>sûr</td>\n",
       "      <td>ADJ</td>\n",
       "      <td>NaN</td>\n",
       "      <td>m</td>\n",
       "      <td>s</td>\n",
       "      <td>267518.0</td>\n",
       "      <td>171.0</td>\n",
       "      <td>5.0</td>\n",
       "    </tr>\n",
       "  </tbody>\n",
       "</table>\n",
       "</div>"
      ],
      "text/plain": [
       "  graphie  lemme  cat infover genre nombre  occurrences  rangFW  rangFWA\n",
       "0   juste  juste  ADJ     NaN   NaN      s     323706.0   139.0      1.0\n",
       "1     bon    bon  ADJ     NaN     m      s     297776.0   153.0      2.0\n",
       "2    tout   tout  ADJ     NaN     m      s     286396.0   160.0      3.0\n",
       "3    tous   tout  ADJ     NaN     m      p     282537.0   162.0      4.0\n",
       "4     sûr    sûr  ADJ     NaN     m      s     267518.0   171.0      5.0"
      ]
     },
     "metadata": {},
     "output_type": "display_data"
    }
   ],
   "source": [
    "dfL4={}\n",
    "\n",
    "catV=[\"VER\",\"AUX\"]\n",
    "dfVerbes4=dfLex4.loc[dfLex4[\"cat\"].isin(catV),:]\n",
    "dfVerbes4.loc[dfVerbes4[\"cat\"].isin(catV),\"rangFWV\"]=dfVerbes4.loc[dfVerbes4[\"cat\"].isin(catV),\"occurrences\"].rank(ascending=False)\n",
    "dfL4[\"V\"]=dfVerbes4.sort_values(\"rangFWV\").reset_index().drop(columns=\"index\")\n",
    "\n",
    "dfNoms4=dfLex4.loc[dfLex4[\"cat\"]==\"NOM\",:]\n",
    "dfNoms4.loc[dfNoms4[\"cat\"]==\"NOM\",\"rangFWN\"]=dfNoms4.loc[dfNoms4[\"cat\"]==\"NOM\",\"occurrences\"].rank(ascending=False)\n",
    "dfL4[\"N\"]=dfNoms4.sort_values(\"rangFWN\").reset_index().drop(columns=\"index\")\n",
    "\n",
    "dfAdjectifs4=dfLex4.loc[dfLex4[\"cat\"]==\"ADJ\",:]\n",
    "dfAdjectifs4.loc[dfAdjectifs4[\"cat\"]==\"ADJ\",\"rangFWA\"]=dfAdjectifs4.loc[dfAdjectifs4[\"cat\"]==\"ADJ\",\"occurrences\"].rank(ascending=False)\n",
    "dfL4[\"A\"]=dfAdjectifs4.sort_values(\"rangFWA\").reset_index().drop(columns=\"index\")\n",
    "\n",
    "for cat in \"VNA\":\n",
    "    print cat\n",
    "    display(dfL4[cat].head())"
   ]
  },
  {
   "cell_type": "markdown",
   "metadata": {},
   "source": [
    "On peut calculer le ratio entre le coefficient du premier quartile et celui du quatrième.\n",
    "- pour les verbes, Q4/Q1=2.05\n",
    "- pour les noms, Q4/Q1=3.03\n",
    "- pour les adjectifs, Q4/Q1=3.48"
   ]
  },
  {
   "cell_type": "code",
   "execution_count": 25,
   "metadata": {},
   "outputs": [
    {
     "name": "stdout",
     "output_type": "stream",
     "text": [
      "V\n",
      "Coefficient général -2.14\n",
      "\tQ1 -1.55\n",
      "\tQ2 -2.57\n",
      "\tQ3 -3.11\n",
      "\tQ4 -3.17\n"
     ]
    },
    {
     "data": {
      "image/png": "[encoded data removed]",
      "text/plain": [
       "<Figure size 432x288 with 1 Axes>"
      ]
     },
     "metadata": {},
     "output_type": "display_data"
    },
    {
     "name": "stdout",
     "output_type": "stream",
     "text": [
      "N\n",
      "Coefficient général -2.36\n",
      "\tQ1 -1.41\n",
      "\tQ2 -3.08\n",
      "\tQ3 -3.97\n",
      "\tQ4 -4.27\n"
     ]
    },
    {
     "data": {
      "image/png": "[encoded data removed]",
      "text/plain": [
       "<Figure size 432x288 with 1 Axes>"
      ]
     },
     "metadata": {},
     "output_type": "display_data"
    },
    {
     "name": "stdout",
     "output_type": "stream",
     "text": [
      "A\n",
      "Coefficient général -2.04\n",
      "\tQ1 -1.28\n",
      "\tQ2 -2.47\n",
      "\tQ3 -3.61\n",
      "\tQ4 -4.45\n"
     ]
    },
    {
     "data": {
      "image/png": "[encoded data removed]",
      "text/plain": [
       "<Figure size 432x288 with 1 Axes>"
      ]
     },
     "metadata": {},
     "output_type": "display_data"
    }
   ],
   "source": [
    "for cat in \"VNA\":\n",
    "    print cat\n",
    "    plotZipf(dfL4[cat],\"rangFW%s\"%cat,graphLabel=\"%s dans Films4\"%cat,lQuartiles=\"Q1 Q4\".split(\" \"))"
   ]
  },
  {
   "cell_type": "markdown",
   "metadata": {},
   "source": [
    "# Statistiques sur les cases du paradigme morphosyntaxique"
   ]
  },
  {
   "cell_type": "markdown",
   "metadata": {},
   "source": [
    "## Filtrer les scories de Lexique4\n",
    "- quelques formes fléchies sont notées avec des lemmes qui ne correspondent pas à un verbe\n",
    "- quelques formes ne sont pas identifiées : infover = NaN\n",
    "- une forme est indiquée comme impératif 3S\n",
    "\n",
    "Dans tous les cas, on remplace l'étiquette de Lexique.org par l'étiquette Grace"
   ]
  },
  {
   "cell_type": "code",
   "execution_count": 26,
   "metadata": {},
   "outputs": [
    {
     "data": {
      "text/plain": [
       "array([u'ind:pre:3', u'ind:pre:1', u'inf;', u'ind:imp:3', u'ind:pre:2',\n",
       "       u'par:pas:', u'imp:pre:2', u'inf', u'ind:imp:1', u'ind:fut:3',\n",
       "       u'cnd:pre:3', u'sub:pre:3', u'imp:pre:1', u'cnd:pre:1', nan,\n",
       "       u'cnd:pre:2', u'ind:imp:2', u'ind:fut:1', u'par:p', u'ind:fut:2',\n",
       "       u'sub:pre:2', u'ind:pas:3', u'sub:pre:1', u'ind:pas:1',\n",
       "       u'ind:pas:2', u'imp:pre:2p;ind:pre:2p;par:pas;',\n",
       "       u'imp:pre:2s;ind:pre:1s;ind:pre:3s;sub:pre:3s;',\n",
       "       u'imp:pre:1p;ind:pre:1p;', u'sub:imp:3', u'ind:pas:3s;',\n",
       "       u'sub:imp:1', u'imp:pre:3', u'sub:imp:2'], dtype=object)"
      ]
     },
     "execution_count": 26,
     "metadata": {},
     "output_type": "execute_result"
    }
   ],
   "source": [
    "dfL4[\"V\"].infover.unique()"
   ]
  },
  {
   "cell_type": "code",
   "execution_count": 27,
   "metadata": {},
   "outputs": [
    {
     "name": "stdout",
     "output_type": "stream",
     "text": [
      "Problèmes de lemme\n",
      "faîtes faîte\n",
      "monte monte\n",
      "partons parton\n",
      "monte monte\n",
      "monte monte\n",
      "excitons exciton\n",
      "transposons transposon\n"
     ]
    }
   ],
   "source": [
    "def infover2Case(lRow):\n",
    "    result=\"\"\n",
    "    lInfover=lRow[\"infover\"]\n",
    "    lNombre=lRow[\"nombre\"]\n",
    "    if isinstance(lInfover,unicode):\n",
    "        if lInfover in [u'imp:pre:2p;ind:pre:2p;par:pas;',\n",
    "       u'imp:pre:2s;ind:pre:1s;ind:pre:3s;sub:pre:3s;',\n",
    "       u'imp:pre:1p;ind:pre:1p;']:\n",
    "            print lRow[\"graphie\"],lRow[\"lemme\"]\n",
    "        else:\n",
    "            if lInfover[:3]==u\"inf\":\n",
    "                result=u\"inf\"\n",
    "            elif lInfover==u\"par:p\":\n",
    "                result=\"pP\"\n",
    "            elif lInfover[:8]==u\"par:pas:\":\n",
    "                if lNombre in [\"s\",\"p\"]:\n",
    "                    lNombre=lNombre.upper()\n",
    "                else:\n",
    "                    print lRow\n",
    "                lGenre=lRow[\"genre\"]\n",
    "                if lGenre in [\"m\",\"f\"]:\n",
    "                    lGenre=lGenre.upper()\n",
    "                else:\n",
    "                    print lRow\n",
    "                result=\"pp\"+lGenre+lNombre\n",
    "            else:\n",
    "                if lNombre in [\"s\",\"p\"]:\n",
    "                    lNombre=lNombre.upper()\n",
    "                    if lInfover[:8]==u\"ind:pre:\":\n",
    "                        result=\"pi\"+lInfover[8]+lNombre\n",
    "                    elif  lInfover[:8]==u\"ind:imp:\":\n",
    "                        result=\"ii\"+lInfover[8]+lNombre\n",
    "                    elif  lInfover[:8]==u\"ind:fut:\":\n",
    "                        result=\"fi\"+lInfover[8]+lNombre\n",
    "                    elif  lInfover[:8]==u\"ind:pas:\":\n",
    "                        result=\"ai\"+lInfover[8]+lNombre\n",
    "                    elif  lInfover[:8]==u\"imp:pre:\":\n",
    "                        result=\"pI\"+lInfover[8]+lNombre\n",
    "                    elif  lInfover[:8]==u\"sub:pre:\":\n",
    "                        result=\"ps\"+lInfover[8]+lNombre\n",
    "                    elif  lInfover[:8]==u\"sub:imp:\":\n",
    "                        result=\"is\"+lInfover[8]+lNombre\n",
    "                    elif  lInfover[:8]==u\"cnd:pre:\":\n",
    "                        result=\"pc\"+lInfover[8]+lNombre\n",
    "                else:\n",
    "                    print lRow               \n",
    "    return result\n",
    "\n",
    "print \"Problèmes de lemme\"\n",
    "dfL4[\"V\"][\"case\"]=dfL4[\"V\"].apply(infover2Case,axis=1)"
   ]
  },
  {
   "cell_type": "markdown",
   "metadata": {},
   "source": [
    "### exporter les erreurs de Lexique4-Verbes pour correction\n",
    "- lexèmes sans case\n",
    "- lexèmes avec une forme d'impératif 3SG"
   ]
  },
  {
   "cell_type": "code",
   "execution_count": 28,
   "metadata": {},
   "outputs": [],
   "source": [
    "dfL4ErrorsV=dfL4[\"V\"][dfL4[\"V\"][\"case\"].isin([\"\",\"pI3S\"])]\n",
    "dfL4ErrorsV.to_csv(path_or_buf=\"PB-Lex4-Verbes.csv\",sep=\"\\t\",encoding=\"utf8\")"
   ]
  },
  {
   "cell_type": "markdown",
   "metadata": {},
   "source": [
    "### aggréger les comptes des formes artificiellement séparées par Lexique4\n",
    "- groupby graphie, lemme, case\n",
    " - AUX et VER ensemble pour un même lemme\n",
    " - les infover inf et inf; sont regroupés via la case inf\n",
    "- recalcul du rang après regroupements"
   ]
  },
  {
   "cell_type": "code",
   "execution_count": 49,
   "metadata": {},
   "outputs": [
    {
     "data": {
      "text/html": [
       "<div>\n",
       "<style scoped>\n",
       "    .dataframe tbody tr th:only-of-type {\n",
       "        vertical-align: middle;\n",
       "    }\n",
       "\n",
       "    .dataframe tbody tr th {\n",
       "        vertical-align: top;\n",
       "    }\n",
       "\n",
       "    .dataframe thead th {\n",
       "        text-align: right;\n",
       "    }\n",
       "</style>\n",
       "<table border=\"1\" class=\"dataframe\">\n",
       "  <thead>\n",
       "    <tr style=\"text-align: right;\">\n",
       "      <th></th>\n",
       "      <th>graphie</th>\n",
       "      <th>lemme</th>\n",
       "      <th>case</th>\n",
       "      <th>occurrences</th>\n",
       "      <th>rangFWV</th>\n",
       "    </tr>\n",
       "  </thead>\n",
       "  <tbody>\n",
       "    <tr>\n",
       "      <th>42094</th>\n",
       "      <td>est</td>\n",
       "      <td>être</td>\n",
       "      <td>pi3S</td>\n",
       "      <td>7111273.0</td>\n",
       "      <td>1.0</td>\n",
       "    </tr>\n",
       "    <tr>\n",
       "      <th>2</th>\n",
       "      <td>a</td>\n",
       "      <td>avoir</td>\n",
       "      <td>pi3S</td>\n",
       "      <td>3668058.0</td>\n",
       "      <td>2.0</td>\n",
       "    </tr>\n",
       "    <tr>\n",
       "      <th>3304</th>\n",
       "      <td>ai</td>\n",
       "      <td>avoir</td>\n",
       "      <td>pi1S</td>\n",
       "      <td>2407163.0</td>\n",
       "      <td>3.0</td>\n",
       "    </tr>\n",
       "    <tr>\n",
       "      <th>6631</th>\n",
       "      <td>as</td>\n",
       "      <td>avoir</td>\n",
       "      <td>pi2S</td>\n",
       "      <td>1021787.0</td>\n",
       "      <td>4.0</td>\n",
       "    </tr>\n",
       "    <tr>\n",
       "      <th>105195</th>\n",
       "      <td>était</td>\n",
       "      <td>être</td>\n",
       "      <td>ii3S</td>\n",
       "      <td>982148.0</td>\n",
       "      <td>5.0</td>\n",
       "    </tr>\n",
       "  </tbody>\n",
       "</table>\n",
       "</div>"
      ],
      "text/plain": [
       "       graphie  lemme  case  occurrences  rangFWV\n",
       "42094      est   être  pi3S    7111273.0      1.0\n",
       "2            a  avoir  pi3S    3668058.0      2.0\n",
       "3304        ai  avoir  pi1S    2407163.0      3.0\n",
       "6631        as  avoir  pi2S    1021787.0      4.0\n",
       "105195   était   être  ii3S     982148.0      5.0"
      ]
     },
     "execution_count": 49,
     "metadata": {},
     "output_type": "execute_result"
    }
   ],
   "source": [
    "dfL4[\"VFiltre\"]=dfL4[\"V\"][~dfL4[\"V\"][\"case\"].isin([\"\",\"pI3S\"])]\n",
    "dfL4[\"VFiltre\"]=dfL4[\"VFiltre\"].groupby(\"graphie lemme case\".split(\" \"))[[\"occurrences\"]].sum().reset_index()\n",
    "dfL4[\"VFiltre\"][\"rangFWV\"]=dfL4[\"VFiltre\"][\"occurrences\"].rank(ascending=False)\n",
    "dfL4[\"VFiltre\"].sort_values(\"rangFWV\").head()"
   ]
  },
  {
   "cell_type": "markdown",
   "metadata": {},
   "source": [
    "La fréquence cumulée pour chaque case donne une idée de la présence de la case dans le corpus. Mais cette fréquence est largement influencée par les formes de lexèmes extrèmement fréquents. La troisième personne du singulier du présent indicatif se situe largement au dessus de toutes les autres formes avec 17M. L'étude de la médiane ou du premier quartile donne une image moins biaisée des rapports de distribution entre les cases."
   ]
  },
  {
   "cell_type": "code",
   "execution_count": 35,
   "metadata": {},
   "outputs": [
    {
     "data": {
      "text/html": [
       "<div>\n",
       "<style scoped>\n",
       "    .dataframe tbody tr th:only-of-type {\n",
       "        vertical-align: middle;\n",
       "    }\n",
       "\n",
       "    .dataframe tbody tr th {\n",
       "        vertical-align: top;\n",
       "    }\n",
       "\n",
       "    .dataframe thead th {\n",
       "        text-align: right;\n",
       "    }\n",
       "</style>\n",
       "<table border=\"1\" class=\"dataframe\">\n",
       "  <thead>\n",
       "    <tr style=\"text-align: right;\">\n",
       "      <th></th>\n",
       "      <th>occurrences</th>\n",
       "    </tr>\n",
       "    <tr>\n",
       "      <th>case</th>\n",
       "      <th></th>\n",
       "    </tr>\n",
       "  </thead>\n",
       "  <tbody>\n",
       "    <tr>\n",
       "      <th>pi3S</th>\n",
       "      <td>17617887.0</td>\n",
       "    </tr>\n",
       "    <tr>\n",
       "      <th>inf</th>\n",
       "      <td>11917396.0</td>\n",
       "    </tr>\n",
       "    <tr>\n",
       "      <th>pi1S</th>\n",
       "      <td>9144293.0</td>\n",
       "    </tr>\n",
       "    <tr>\n",
       "      <th>ppMS</th>\n",
       "      <td>7704344.0</td>\n",
       "    </tr>\n",
       "    <tr>\n",
       "      <th>pi2S</th>\n",
       "      <td>4043374.0</td>\n",
       "    </tr>\n",
       "  </tbody>\n",
       "</table>\n",
       "</div>"
      ],
      "text/plain": [
       "      occurrences\n",
       "case             \n",
       "pi3S   17617887.0\n",
       "inf    11917396.0\n",
       "pi1S    9144293.0\n",
       "ppMS    7704344.0\n",
       "pi2S    4043374.0"
      ]
     },
     "execution_count": 35,
     "metadata": {},
     "output_type": "execute_result"
    }
   ],
   "source": [
    "dfCasesTokens=dfL4[\"VFiltre\"][dfL4[\"VFiltre\"][\"case\"]!=\"\"].groupby(\"case\")[[\"occurrences\"]].sum().sort_values(\"occurrences\",ascending=False)\n",
    "dfCasesTokens.head()"
   ]
  },
  {
   "cell_type": "code",
   "execution_count": 31,
   "metadata": {},
   "outputs": [
    {
     "data": {
      "image/png": "[encoded data removed]",
      "text/plain": [
       "<Figure size 1440x360 with 1 Axes>"
      ]
     },
     "metadata": {},
     "output_type": "display_data"
    }
   ],
   "source": [
    "ax=dfCasesTokens.plot(kind=\"bar\",figsize=(20,5))\n",
    "#ax.set_yscale('log')\n"
   ]
  },
  {
   "cell_type": "code",
   "execution_count": 48,
   "metadata": {},
   "outputs": [
    {
     "data": {
      "text/plain": [
       "<matplotlib.axes._subplots.AxesSubplot at 0x1a225c99d0>"
      ]
     },
     "execution_count": 48,
     "metadata": {},
     "output_type": "execute_result"
    },
    {
     "data": {
      "image/png": "[encoded data removed]",
      "text/plain": [
       "<Figure size 1440x360 with 1 Axes>"
      ]
     },
     "metadata": {},
     "output_type": "display_data"
    }
   ],
   "source": [
    "dfL4[\"VFiltre\"][dfL4[\"VFiltre\"][\"case\"]!=\"\"].groupby(\"case\")[[\"occurrences\"]].quantile(q=0.5).sort_values(\"occurrences\",ascending=False).plot(kind=\"bar\",figsize=(20,5))"
   ]
  },
  {
   "cell_type": "code",
   "execution_count": 47,
   "metadata": {},
   "outputs": [
    {
     "data": {
      "text/plain": [
       "<matplotlib.axes._subplots.AxesSubplot at 0x1a1dc0f990>"
      ]
     },
     "execution_count": 47,
     "metadata": {},
     "output_type": "execute_result"
    },
    {
     "data": {
      "image/png": "[encoded data removed]",
      "text/plain": [
       "<Figure size 1440x360 with 1 Axes>"
      ]
     },
     "metadata": {},
     "output_type": "display_data"
    }
   ],
   "source": [
    "dfL4[\"VFiltre\"][dfL4[\"VFiltre\"][\"case\"]!=\"\"].groupby(\"case\")[[\"occurrences\"]].quantile(q=0.75).sort_values(\"occurrences\",ascending=False).plot(kind=\"bar\",figsize=(20,5))"
   ]
  },
  {
   "cell_type": "code",
   "execution_count": 105,
   "metadata": {},
   "outputs": [
    {
     "data": {
      "text/html": [
       "<div>\n",
       "<style scoped>\n",
       "    .dataframe tbody tr th:only-of-type {\n",
       "        vertical-align: middle;\n",
       "    }\n",
       "\n",
       "    .dataframe tbody tr th {\n",
       "        vertical-align: top;\n",
       "    }\n",
       "\n",
       "    .dataframe thead th {\n",
       "        text-align: right;\n",
       "    }\n",
       "</style>\n",
       "<table border=\"1\" class=\"dataframe\">\n",
       "  <thead>\n",
       "    <tr style=\"text-align: right;\">\n",
       "      <th></th>\n",
       "      <th>graphie</th>\n",
       "      <th>lemme</th>\n",
       "      <th>case</th>\n",
       "      <th>occurrences</th>\n",
       "      <th>rangFWV</th>\n",
       "      <th>nb</th>\n",
       "    </tr>\n",
       "  </thead>\n",
       "  <tbody>\n",
       "    <tr>\n",
       "      <th>0</th>\n",
       "      <td>-tu</td>\n",
       "      <td>taire</td>\n",
       "      <td>ppMS</td>\n",
       "      <td>8.0</td>\n",
       "      <td>49602.5</td>\n",
       "      <td>1</td>\n",
       "    </tr>\n",
       "    <tr>\n",
       "      <th>1</th>\n",
       "      <td>=</td>\n",
       "      <td>égaler</td>\n",
       "      <td>pi3S</td>\n",
       "      <td>4218.0</td>\n",
       "      <td>1487.0</td>\n",
       "      <td>1</td>\n",
       "    </tr>\n",
       "    <tr>\n",
       "      <th>2</th>\n",
       "      <td>a</td>\n",
       "      <td>avoir</td>\n",
       "      <td>pi3S</td>\n",
       "      <td>3668058.0</td>\n",
       "      <td>2.0</td>\n",
       "      <td>1</td>\n",
       "    </tr>\n",
       "    <tr>\n",
       "      <th>3</th>\n",
       "      <td>a</td>\n",
       "      <td>avoir</td>\n",
       "      <td>ppMS</td>\n",
       "      <td>1.0</td>\n",
       "      <td>94631.0</td>\n",
       "      <td>1</td>\n",
       "    </tr>\n",
       "    <tr>\n",
       "      <th>4</th>\n",
       "      <td>abaissa</td>\n",
       "      <td>abaisser</td>\n",
       "      <td>ai3S</td>\n",
       "      <td>5.0</td>\n",
       "      <td>58201.5</td>\n",
       "      <td>1</td>\n",
       "    </tr>\n",
       "  </tbody>\n",
       "</table>\n",
       "</div>"
      ],
      "text/plain": [
       "   graphie     lemme  case  occurrences  rangFWV  nb\n",
       "0      -tu     taire  ppMS          8.0  49602.5   1\n",
       "1        =    égaler  pi3S       4218.0   1487.0   1\n",
       "2        a     avoir  pi3S    3668058.0      2.0   1\n",
       "3        a     avoir  ppMS          1.0  94631.0   1\n",
       "4  abaissa  abaisser  ai3S          5.0  58201.5   1"
      ]
     },
     "execution_count": 105,
     "metadata": {},
     "output_type": "execute_result"
    }
   ],
   "source": [
    "dfL4[\"VFiltre\"][\"nb\"]=1\n",
    "dfL4[\"VFiltre\"].head()"
   ]
  },
  {
   "cell_type": "markdown",
   "metadata": {},
   "source": [
    "### Lexèmes avec surabondance\n",
    "Pour les lexèmes sujets à surabondance, il est possible d'avoir plus de 51 formes listées mais une partie des lexèmes de la liste ne font pas partie des surabondants."
   ]
  },
  {
   "cell_type": "code",
   "execution_count": 113,
   "metadata": {},
   "outputs": [],
   "source": [
    "dfSurabondances=dfL4[\"VFiltre\"].groupby([\"lemme\",\"case\"]).agg({\"graphie\":lambda x: \"-\".join(x),\"nb\":\"count\"}).reset_index()\n",
    "dfL4Surabondances=dfSurabondances[dfSurabondances[\"nb\"]>1]\n",
    "dfL4Surabondances.to_csv(path_or_buf=\"PB-Lex4-Surabondances.csv\",sep=\"\\t\",encoding=\"utf8\")"
   ]
  },
  {
   "cell_type": "code",
   "execution_count": 114,
   "metadata": {},
   "outputs": [
    {
     "data": {
      "text/html": [
       "<div>\n",
       "<style scoped>\n",
       "    .dataframe tbody tr th:only-of-type {\n",
       "        vertical-align: middle;\n",
       "    }\n",
       "\n",
       "    .dataframe tbody tr th {\n",
       "        vertical-align: top;\n",
       "    }\n",
       "\n",
       "    .dataframe thead th {\n",
       "        text-align: right;\n",
       "    }\n",
       "</style>\n",
       "<table border=\"1\" class=\"dataframe\">\n",
       "  <thead>\n",
       "    <tr style=\"text-align: right;\">\n",
       "      <th></th>\n",
       "      <th>lemme</th>\n",
       "      <th>case</th>\n",
       "      <th>nb</th>\n",
       "      <th>graphie</th>\n",
       "    </tr>\n",
       "  </thead>\n",
       "  <tbody>\n",
       "    <tr>\n",
       "      <th>50</th>\n",
       "      <td>abandonner</td>\n",
       "      <td>ii3P</td>\n",
       "      <td>2</td>\n",
       "      <td>abandonnaient-abandonné</td>\n",
       "    </tr>\n",
       "    <tr>\n",
       "      <th>51</th>\n",
       "      <td>abandonner</td>\n",
       "      <td>ii3S</td>\n",
       "      <td>2</td>\n",
       "      <td>abandonnait-abandonné</td>\n",
       "    </tr>\n",
       "    <tr>\n",
       "      <th>54</th>\n",
       "      <td>abandonner</td>\n",
       "      <td>pI2P</td>\n",
       "      <td>2</td>\n",
       "      <td>abandonner-abandonnez</td>\n",
       "    </tr>\n",
       "    <tr>\n",
       "      <th>65</th>\n",
       "      <td>abandonner</td>\n",
       "      <td>pi2P</td>\n",
       "      <td>2</td>\n",
       "      <td>abandonner-abandonnez</td>\n",
       "    </tr>\n",
       "    <tr>\n",
       "      <th>115</th>\n",
       "      <td>abattre</td>\n",
       "      <td>pi2P</td>\n",
       "      <td>2</td>\n",
       "      <td>abattez-abattre</td>\n",
       "    </tr>\n",
       "    <tr>\n",
       "      <th>264</th>\n",
       "      <td>aborder</td>\n",
       "      <td>ii3P</td>\n",
       "      <td>2</td>\n",
       "      <td>abordaient-abordé</td>\n",
       "    </tr>\n",
       "    <tr>\n",
       "      <th>345</th>\n",
       "      <td>aboyer</td>\n",
       "      <td>pi2P</td>\n",
       "      <td>2</td>\n",
       "      <td>aboyer-aboyez</td>\n",
       "    </tr>\n",
       "    <tr>\n",
       "      <th>518</th>\n",
       "      <td>absorber</td>\n",
       "      <td>ii3P</td>\n",
       "      <td>2</td>\n",
       "      <td>absorbaient-absorbé</td>\n",
       "    </tr>\n",
       "    <tr>\n",
       "      <th>551</th>\n",
       "      <td>absoudre</td>\n",
       "      <td>pi2P</td>\n",
       "      <td>2</td>\n",
       "      <td>absolvez-absoudre</td>\n",
       "    </tr>\n",
       "    <tr>\n",
       "      <th>615</th>\n",
       "      <td>abuser</td>\n",
       "      <td>ii3P</td>\n",
       "      <td>2</td>\n",
       "      <td>abusaient-abusé</td>\n",
       "    </tr>\n",
       "    <tr>\n",
       "      <th>616</th>\n",
       "      <td>abuser</td>\n",
       "      <td>ii3S</td>\n",
       "      <td>2</td>\n",
       "      <td>abusait-abusé</td>\n",
       "    </tr>\n",
       "    <tr>\n",
       "      <th>630</th>\n",
       "      <td>abuser</td>\n",
       "      <td>pi2P</td>\n",
       "      <td>2</td>\n",
       "      <td>abuser-abusez</td>\n",
       "    </tr>\n",
       "    <tr>\n",
       "      <th>688</th>\n",
       "      <td>accabler</td>\n",
       "      <td>ii3P</td>\n",
       "      <td>2</td>\n",
       "      <td>accablaient-accablé</td>\n",
       "    </tr>\n",
       "    <tr>\n",
       "      <th>715</th>\n",
       "      <td>accaparer</td>\n",
       "      <td>ii3S</td>\n",
       "      <td>2</td>\n",
       "      <td>accaparait-accaparé</td>\n",
       "    </tr>\n",
       "    <tr>\n",
       "      <th>747</th>\n",
       "      <td>accentuer</td>\n",
       "      <td>pi2P</td>\n",
       "      <td>2</td>\n",
       "      <td>accentuer-accentuez</td>\n",
       "    </tr>\n",
       "    <tr>\n",
       "      <th>769</th>\n",
       "      <td>accepter</td>\n",
       "      <td>ii3P</td>\n",
       "      <td>3</td>\n",
       "      <td>acceptaient-accepté-acceptées</td>\n",
       "    </tr>\n",
       "    <tr>\n",
       "      <th>770</th>\n",
       "      <td>accepter</td>\n",
       "      <td>ii3S</td>\n",
       "      <td>2</td>\n",
       "      <td>acceptait-accepté</td>\n",
       "    </tr>\n",
       "    <tr>\n",
       "      <th>774</th>\n",
       "      <td>accepter</td>\n",
       "      <td>pI2P</td>\n",
       "      <td>2</td>\n",
       "      <td>accepter-acceptez</td>\n",
       "    </tr>\n",
       "    <tr>\n",
       "      <th>785</th>\n",
       "      <td>accepter</td>\n",
       "      <td>pi2P</td>\n",
       "      <td>2</td>\n",
       "      <td>accepter-acceptez</td>\n",
       "    </tr>\n",
       "    <tr>\n",
       "      <th>956</th>\n",
       "      <td>accomplir</td>\n",
       "      <td>ii3S</td>\n",
       "      <td>2</td>\n",
       "      <td>accomplir-accomplissait</td>\n",
       "    </tr>\n",
       "    <tr>\n",
       "      <th>999</th>\n",
       "      <td>accorder</td>\n",
       "      <td>ii3S</td>\n",
       "      <td>2</td>\n",
       "      <td>accordait-accordé</td>\n",
       "    </tr>\n",
       "    <tr>\n",
       "      <th>1011</th>\n",
       "      <td>accorder</td>\n",
       "      <td>pi1P</td>\n",
       "      <td>2</td>\n",
       "      <td>accordes-accordons</td>\n",
       "    </tr>\n",
       "    <tr>\n",
       "      <th>1016</th>\n",
       "      <td>accorder</td>\n",
       "      <td>pi3S</td>\n",
       "      <td>2</td>\n",
       "      <td>accorde-accordé</td>\n",
       "    </tr>\n",
       "    <tr>\n",
       "      <th>1123</th>\n",
       "      <td>accoupler</td>\n",
       "      <td>pi2P</td>\n",
       "      <td>2</td>\n",
       "      <td>accoupler-accouplez</td>\n",
       "    </tr>\n",
       "    <tr>\n",
       "      <th>1202</th>\n",
       "      <td>accrocher</td>\n",
       "      <td>ii3P</td>\n",
       "      <td>2</td>\n",
       "      <td>accrochaient-accrochés</td>\n",
       "    </tr>\n",
       "    <tr>\n",
       "      <th>1206</th>\n",
       "      <td>accrocher</td>\n",
       "      <td>pI2P</td>\n",
       "      <td>2</td>\n",
       "      <td>accrocher-accrochez</td>\n",
       "    </tr>\n",
       "    <tr>\n",
       "      <th>1217</th>\n",
       "      <td>accrocher</td>\n",
       "      <td>pi2P</td>\n",
       "      <td>2</td>\n",
       "      <td>accrocher-accrochez</td>\n",
       "    </tr>\n",
       "    <tr>\n",
       "      <th>1396</th>\n",
       "      <td>accuser</td>\n",
       "      <td>ii3P</td>\n",
       "      <td>2</td>\n",
       "      <td>accusaient-accusé</td>\n",
       "    </tr>\n",
       "    <tr>\n",
       "      <th>1401</th>\n",
       "      <td>accuser</td>\n",
       "      <td>pI2P</td>\n",
       "      <td>2</td>\n",
       "      <td>accuser-accusez</td>\n",
       "    </tr>\n",
       "    <tr>\n",
       "      <th>1411</th>\n",
       "      <td>accuser</td>\n",
       "      <td>pi1S</td>\n",
       "      <td>2</td>\n",
       "      <td>accuse-accusé</td>\n",
       "    </tr>\n",
       "    <tr>\n",
       "      <th>...</th>\n",
       "      <td>...</td>\n",
       "      <td>...</td>\n",
       "      <td>...</td>\n",
       "      <td>...</td>\n",
       "    </tr>\n",
       "    <tr>\n",
       "      <th>102613</th>\n",
       "      <td>épuiser</td>\n",
       "      <td>ii3P</td>\n",
       "      <td>2</td>\n",
       "      <td>épuisaient-épuisé</td>\n",
       "    </tr>\n",
       "    <tr>\n",
       "      <th>102614</th>\n",
       "      <td>épuiser</td>\n",
       "      <td>ii3S</td>\n",
       "      <td>2</td>\n",
       "      <td>épuisait-épuisé</td>\n",
       "    </tr>\n",
       "    <tr>\n",
       "      <th>102626</th>\n",
       "      <td>épuiser</td>\n",
       "      <td>pi2P</td>\n",
       "      <td>2</td>\n",
       "      <td>épuiser-épuisez</td>\n",
       "    </tr>\n",
       "    <tr>\n",
       "      <th>102967</th>\n",
       "      <td>étayer</td>\n",
       "      <td>fi3P</td>\n",
       "      <td>2</td>\n",
       "      <td>étaieront-étayeront</td>\n",
       "    </tr>\n",
       "    <tr>\n",
       "      <th>102978</th>\n",
       "      <td>étayer</td>\n",
       "      <td>pi1S</td>\n",
       "      <td>2</td>\n",
       "      <td>étaie-étaye</td>\n",
       "    </tr>\n",
       "    <tr>\n",
       "      <th>102981</th>\n",
       "      <td>étayer</td>\n",
       "      <td>pi3S</td>\n",
       "      <td>2</td>\n",
       "      <td>étaie-étaye</td>\n",
       "    </tr>\n",
       "    <tr>\n",
       "      <th>103178</th>\n",
       "      <td>étirer</td>\n",
       "      <td>pI2P</td>\n",
       "      <td>2</td>\n",
       "      <td>étirer-étirez</td>\n",
       "    </tr>\n",
       "    <tr>\n",
       "      <th>103249</th>\n",
       "      <td>étonner</td>\n",
       "      <td>pi2P</td>\n",
       "      <td>2</td>\n",
       "      <td>étonner-étonnez</td>\n",
       "    </tr>\n",
       "    <tr>\n",
       "      <th>103272</th>\n",
       "      <td>étouffer</td>\n",
       "      <td>ii3P</td>\n",
       "      <td>2</td>\n",
       "      <td>étouffaient-étouffé</td>\n",
       "    </tr>\n",
       "    <tr>\n",
       "      <th>103273</th>\n",
       "      <td>étouffer</td>\n",
       "      <td>ii3S</td>\n",
       "      <td>2</td>\n",
       "      <td>étouffait-étouffé</td>\n",
       "    </tr>\n",
       "    <tr>\n",
       "      <th>103459</th>\n",
       "      <td>étudier</td>\n",
       "      <td>ii3P</td>\n",
       "      <td>2</td>\n",
       "      <td>étudiaient-étudié</td>\n",
       "    </tr>\n",
       "    <tr>\n",
       "      <th>103460</th>\n",
       "      <td>étudier</td>\n",
       "      <td>ii3S</td>\n",
       "      <td>2</td>\n",
       "      <td>étudiait-étudié</td>\n",
       "    </tr>\n",
       "    <tr>\n",
       "      <th>103474</th>\n",
       "      <td>étudier</td>\n",
       "      <td>pi2P</td>\n",
       "      <td>2</td>\n",
       "      <td>étudier-étudiez</td>\n",
       "    </tr>\n",
       "    <tr>\n",
       "      <th>103507</th>\n",
       "      <td>évacuer</td>\n",
       "      <td>ii3S</td>\n",
       "      <td>2</td>\n",
       "      <td>évacuait-évacués</td>\n",
       "    </tr>\n",
       "    <tr>\n",
       "      <th>103556</th>\n",
       "      <td>évader</td>\n",
       "      <td>pi2P</td>\n",
       "      <td>2</td>\n",
       "      <td>évader-évadez</td>\n",
       "    </tr>\n",
       "    <tr>\n",
       "      <th>103578</th>\n",
       "      <td>évaluer</td>\n",
       "      <td>ii3S</td>\n",
       "      <td>2</td>\n",
       "      <td>évaluait-évalué</td>\n",
       "    </tr>\n",
       "    <tr>\n",
       "      <th>103581</th>\n",
       "      <td>évaluer</td>\n",
       "      <td>pI2P</td>\n",
       "      <td>2</td>\n",
       "      <td>évaluer-évaluez</td>\n",
       "    </tr>\n",
       "    <tr>\n",
       "      <th>103591</th>\n",
       "      <td>évaluer</td>\n",
       "      <td>pi2P</td>\n",
       "      <td>2</td>\n",
       "      <td>évaluer-évaluez</td>\n",
       "    </tr>\n",
       "    <tr>\n",
       "      <th>103704</th>\n",
       "      <td>éveiller</td>\n",
       "      <td>pi2P</td>\n",
       "      <td>2</td>\n",
       "      <td>éveiller-éveillez</td>\n",
       "    </tr>\n",
       "    <tr>\n",
       "      <th>103747</th>\n",
       "      <td>éventrer</td>\n",
       "      <td>pi2P</td>\n",
       "      <td>2</td>\n",
       "      <td>éventrer-éventrez</td>\n",
       "    </tr>\n",
       "    <tr>\n",
       "      <th>103817</th>\n",
       "      <td>éviscérer</td>\n",
       "      <td>ii3S</td>\n",
       "      <td>2</td>\n",
       "      <td>éviscérait-éviscéré</td>\n",
       "    </tr>\n",
       "    <tr>\n",
       "      <th>103962</th>\n",
       "      <td>être</td>\n",
       "      <td>pI1P</td>\n",
       "      <td>2</td>\n",
       "      <td>sommes-soyons</td>\n",
       "    </tr>\n",
       "    <tr>\n",
       "      <th>103963</th>\n",
       "      <td>être</td>\n",
       "      <td>pI2P</td>\n",
       "      <td>3</td>\n",
       "      <td>soyez-êtes-être</td>\n",
       "    </tr>\n",
       "    <tr>\n",
       "      <th>103964</th>\n",
       "      <td>être</td>\n",
       "      <td>pI2S</td>\n",
       "      <td>2</td>\n",
       "      <td>sois-suis</td>\n",
       "    </tr>\n",
       "    <tr>\n",
       "      <th>103966</th>\n",
       "      <td>être</td>\n",
       "      <td>pc1P</td>\n",
       "      <td>2</td>\n",
       "      <td>serais-serions</td>\n",
       "    </tr>\n",
       "    <tr>\n",
       "      <th>103968</th>\n",
       "      <td>être</td>\n",
       "      <td>pc2P</td>\n",
       "      <td>2</td>\n",
       "      <td>serais-seriez</td>\n",
       "    </tr>\n",
       "    <tr>\n",
       "      <th>103974</th>\n",
       "      <td>être</td>\n",
       "      <td>pi2P</td>\n",
       "      <td>3</td>\n",
       "      <td>sommes-êtes-être</td>\n",
       "    </tr>\n",
       "    <tr>\n",
       "      <th>103975</th>\n",
       "      <td>être</td>\n",
       "      <td>pi2S</td>\n",
       "      <td>2</td>\n",
       "      <td>es-suis</td>\n",
       "    </tr>\n",
       "    <tr>\n",
       "      <th>103982</th>\n",
       "      <td>être</td>\n",
       "      <td>ps2S</td>\n",
       "      <td>2</td>\n",
       "      <td>sois-sommes</td>\n",
       "    </tr>\n",
       "    <tr>\n",
       "      <th>103983</th>\n",
       "      <td>être</td>\n",
       "      <td>ps3P</td>\n",
       "      <td>2</td>\n",
       "      <td>soient-étaient</td>\n",
       "    </tr>\n",
       "  </tbody>\n",
       "</table>\n",
       "<p>2046 rows × 4 columns</p>\n",
       "</div>"
      ],
      "text/plain": [
       "             lemme  case  nb                        graphie\n",
       "50      abandonner  ii3P   2        abandonnaient-abandonné\n",
       "51      abandonner  ii3S   2          abandonnait-abandonné\n",
       "54      abandonner  pI2P   2          abandonner-abandonnez\n",
       "65      abandonner  pi2P   2          abandonner-abandonnez\n",
       "115        abattre  pi2P   2                abattez-abattre\n",
       "264        aborder  ii3P   2              abordaient-abordé\n",
       "345         aboyer  pi2P   2                  aboyer-aboyez\n",
       "518       absorber  ii3P   2            absorbaient-absorbé\n",
       "551       absoudre  pi2P   2              absolvez-absoudre\n",
       "615         abuser  ii3P   2                abusaient-abusé\n",
       "616         abuser  ii3S   2                  abusait-abusé\n",
       "630         abuser  pi2P   2                  abuser-abusez\n",
       "688       accabler  ii3P   2            accablaient-accablé\n",
       "715      accaparer  ii3S   2            accaparait-accaparé\n",
       "747      accentuer  pi2P   2            accentuer-accentuez\n",
       "769       accepter  ii3P   3  acceptaient-accepté-acceptées\n",
       "770       accepter  ii3S   2              acceptait-accepté\n",
       "774       accepter  pI2P   2              accepter-acceptez\n",
       "785       accepter  pi2P   2              accepter-acceptez\n",
       "956      accomplir  ii3S   2        accomplir-accomplissait\n",
       "999       accorder  ii3S   2              accordait-accordé\n",
       "1011      accorder  pi1P   2             accordes-accordons\n",
       "1016      accorder  pi3S   2                accorde-accordé\n",
       "1123     accoupler  pi2P   2            accoupler-accouplez\n",
       "1202     accrocher  ii3P   2         accrochaient-accrochés\n",
       "1206     accrocher  pI2P   2            accrocher-accrochez\n",
       "1217     accrocher  pi2P   2            accrocher-accrochez\n",
       "1396       accuser  ii3P   2              accusaient-accusé\n",
       "1401       accuser  pI2P   2                accuser-accusez\n",
       "1411       accuser  pi1S   2                  accuse-accusé\n",
       "...            ...   ...  ..                            ...\n",
       "102613     épuiser  ii3P   2              épuisaient-épuisé\n",
       "102614     épuiser  ii3S   2                épuisait-épuisé\n",
       "102626     épuiser  pi2P   2                épuiser-épuisez\n",
       "102967      étayer  fi3P   2            étaieront-étayeront\n",
       "102978      étayer  pi1S   2                    étaie-étaye\n",
       "102981      étayer  pi3S   2                    étaie-étaye\n",
       "103178      étirer  pI2P   2                  étirer-étirez\n",
       "103249     étonner  pi2P   2                étonner-étonnez\n",
       "103272    étouffer  ii3P   2            étouffaient-étouffé\n",
       "103273    étouffer  ii3S   2              étouffait-étouffé\n",
       "103459     étudier  ii3P   2              étudiaient-étudié\n",
       "103460     étudier  ii3S   2                étudiait-étudié\n",
       "103474     étudier  pi2P   2                étudier-étudiez\n",
       "103507     évacuer  ii3S   2               évacuait-évacués\n",
       "103556      évader  pi2P   2                  évader-évadez\n",
       "103578     évaluer  ii3S   2                évaluait-évalué\n",
       "103581     évaluer  pI2P   2                évaluer-évaluez\n",
       "103591     évaluer  pi2P   2                évaluer-évaluez\n",
       "103704    éveiller  pi2P   2              éveiller-éveillez\n",
       "103747    éventrer  pi2P   2              éventrer-éventrez\n",
       "103817   éviscérer  ii3S   2            éviscérait-éviscéré\n",
       "103962        être  pI1P   2                  sommes-soyons\n",
       "103963        être  pI2P   3                soyez-êtes-être\n",
       "103964        être  pI2S   2                      sois-suis\n",
       "103966        être  pc1P   2                 serais-serions\n",
       "103968        être  pc2P   2                  serais-seriez\n",
       "103974        être  pi2P   3               sommes-êtes-être\n",
       "103975        être  pi2S   2                        es-suis\n",
       "103982        être  ps2S   2                    sois-sommes\n",
       "103983        être  ps3P   2                 soient-étaient\n",
       "\n",
       "[2046 rows x 4 columns]"
      ]
     },
     "execution_count": 114,
     "metadata": {},
     "output_type": "execute_result"
    }
   ],
   "source": [
    "dfL4Surabondances"
   ]
  },
  {
   "cell_type": "code",
   "execution_count": 51,
   "metadata": {},
   "outputs": [
    {
     "data": {
      "text/plain": [
       "[u'aimer',\n",
       " u'aller',\n",
       " u'appeler',\n",
       " u'asseoir',\n",
       " u'avoir',\n",
       " u'devoir',\n",
       " u'donner',\n",
       " u'effrayer',\n",
       " u'envoyer',\n",
       " u'essayer',\n",
       " u'laisser',\n",
       " u'payer',\n",
       " u'penser',\n",
       " u'porter',\n",
       " u'pouvoir',\n",
       " u'savoir',\n",
       " u'trouver',\n",
       " u'vouloir',\n",
       " u'\\xeatre']"
      ]
     },
     "execution_count": 51,
     "metadata": {},
     "output_type": "execute_result"
    }
   ],
   "source": [
    "dfL4LexFormesV=dfL4[\"VFiltre\"].groupby(\"lemme\")[[\"occurrences\",\"nb\"]].count()\n",
    "dfL4LexFormesV[dfL4LexFormesV[\"occurrences\"]>51].index.tolist()"
   ]
  },
  {
   "cell_type": "markdown",
   "metadata": {},
   "source": [
    "### regroupement des formes de lexème pour une même case"
   ]
  },
  {
   "cell_type": "code",
   "execution_count": 52,
   "metadata": {},
   "outputs": [],
   "source": [
    "dfL4LexCasesV=dfL4[\"VFiltre\"].groupby([\"lemme\",\"case\"]).sum().reset_index()"
   ]
  },
  {
   "cell_type": "code",
   "execution_count": 53,
   "metadata": {},
   "outputs": [
    {
     "data": {
      "text/plain": [
       "<matplotlib.axes._subplots.AxesSubplot at 0x11a69c7d0>"
      ]
     },
     "execution_count": 53,
     "metadata": {},
     "output_type": "execute_result"
    },
    {
     "data": {
      "image/png": "[encoded data removed]",
      "text/plain": [
       "<Figure size 1440x360 with 1 Axes>"
      ]
     },
     "metadata": {},
     "output_type": "display_data"
    }
   ],
   "source": [
    "dfCasesTypes=dfL4LexCasesV[dfL4LexCasesV[\"case\"]!=\"\"].groupby(\"case\")[[\"occurrences\"]].count().sort_values(\"occurrences\",ascending=False)\n",
    "dfCasesTypes.plot(kind=\"bar\",figsize=(20,5))"
   ]
  },
  {
   "cell_type": "markdown",
   "metadata": {},
   "source": [
    "# Statistiques sur les lexèmes"
   ]
  },
  {
   "cell_type": "markdown",
   "metadata": {},
   "source": [
    "### Nombre de lexèmes"
   ]
  },
  {
   "cell_type": "code",
   "execution_count": 82,
   "metadata": {},
   "outputs": [
    {
     "name": "stdout",
     "output_type": "stream",
     "text": [
      "Nombre de lexèmes : 6548\n",
      "Numéro du lexème médian : 3274\n"
     ]
    }
   ],
   "source": [
    "nbLexemes=len(dfL4LexCasesV[\"lemme\"].unique())\n",
    "numMedian=nbLexemes/2\n",
    "print u\"Nombre de lexèmes : %d\"%nbLexemes\n",
    "print u\"Numéro du lexème médian : %d\"%numMedian"
   ]
  },
  {
   "cell_type": "markdown",
   "metadata": {},
   "source": [
    "## Nombre de formes par lexème\n",
    "- on compte le nombre de cases remplies par lexème\n",
    " - groupby(\"lemme\").count()"
   ]
  },
  {
   "cell_type": "code",
   "execution_count": 54,
   "metadata": {},
   "outputs": [],
   "source": [
    "dfNbCasesV=dfL4LexCasesV.groupby(\"lemme\").count().sort_values(\"nb\")"
   ]
  },
  {
   "cell_type": "markdown",
   "metadata": {},
   "source": [
    "- on compte le nombre de lexèmes qui possède *nb* formes\n",
    " - occurrences et nb contiennent le nombre de formes de chaque lexème, le groupby(\"occurrences\")[[\"nb\"]].count() permet de compter combien de lexèmes possède chaque nombre de formes."
   ]
  },
  {
   "cell_type": "code",
   "execution_count": 57,
   "metadata": {},
   "outputs": [
    {
     "data": {
      "text/plain": [
       "<matplotlib.axes._subplots.AxesSubplot at 0x1a228f7d90>"
      ]
     },
     "execution_count": 57,
     "metadata": {},
     "output_type": "execute_result"
    },
    {
     "data": {
      "image/png": "[encoded data removed]",
      "text/plain": [
       "<Figure size 1440x360 with 1 Axes>"
      ]
     },
     "metadata": {},
     "output_type": "display_data"
    }
   ],
   "source": [
    "dfDistNbFormes=dfNbCasesV.groupby(\"occurrences\")[[\"nb\"]].count()\n",
    "dfDistNbFormes.plot(kind=\"bar\",figsize=(20,5))"
   ]
  },
  {
   "cell_type": "code",
   "execution_count": 68,
   "metadata": {},
   "outputs": [
    {
     "data": {
      "text/plain": [
       "(104019, 6548)"
      ]
     },
     "execution_count": 68,
     "metadata": {},
     "output_type": "execute_result"
    }
   ],
   "source": [
    "(dfDistNbFormes.index*dfDistNbFormes[\"nb\"]).sum(),dfDistNbFormes[\"nb\"].sum()"
   ]
  },
  {
   "cell_type": "code",
   "execution_count": 81,
   "metadata": {},
   "outputs": [
    {
     "name": "stdout",
     "output_type": "stream",
     "text": [
      "Nombre moyen de formes par lexème : 15.9\n",
      "Nombre médian de formes par lexème : 13\n"
     ]
    }
   ],
   "source": [
    "nbMoyenFormesLex=float((dfDistNbFormes.index*dfDistNbFormes[\"nb\"]).sum())/dfDistNbFormes[\"nb\"].sum()\n",
    "print u\"Nombre moyen de formes par lexème : %0.3g\"%nbMoyenFormesLex\n",
    "nbCumul=0\n",
    "for ix,row in dfDistNbFormes.iterrows():\n",
    "    nbCumul+=row[\"nb\"]\n",
    "    if nbCumul>=numMedian:\n",
    "        nbMedianFormesLex=ix\n",
    "        break\n",
    "print u\"Nombre médian de formes par lexème : %d\"%nbMedianFormesLex"
   ]
  },
  {
   "cell_type": "markdown",
   "metadata": {},
   "source": [
    "Le nombre moyen de formes par lexème est légèrement supérieur à celui calculé par Bonami & Beniamine mais du même ordre de grandeur."
   ]
  },
  {
   "cell_type": "code",
   "execution_count": 59,
   "metadata": {},
   "outputs": [
    {
     "data": {
      "text/html": [
       "<div>\n",
       "<style scoped>\n",
       "    .dataframe tbody tr th:only-of-type {\n",
       "        vertical-align: middle;\n",
       "    }\n",
       "\n",
       "    .dataframe tbody tr th {\n",
       "        vertical-align: top;\n",
       "    }\n",
       "\n",
       "    .dataframe thead th {\n",
       "        text-align: right;\n",
       "    }\n",
       "</style>\n",
       "<table border=\"1\" class=\"dataframe\">\n",
       "  <thead>\n",
       "    <tr style=\"text-align: right;\">\n",
       "      <th></th>\n",
       "      <th>lemme</th>\n",
       "      <th>case</th>\n",
       "      <th>occurrences</th>\n",
       "      <th>rangFWV</th>\n",
       "      <th>nb</th>\n",
       "    </tr>\n",
       "  </thead>\n",
       "  <tbody>\n",
       "    <tr>\n",
       "      <th>0</th>\n",
       "      <td>abaisser</td>\n",
       "      <td>ai2P</td>\n",
       "      <td>1.0</td>\n",
       "      <td>94631.0</td>\n",
       "      <td>1</td>\n",
       "    </tr>\n",
       "    <tr>\n",
       "      <th>1</th>\n",
       "      <td>abaisser</td>\n",
       "      <td>ai3S</td>\n",
       "      <td>5.0</td>\n",
       "      <td>58201.5</td>\n",
       "      <td>1</td>\n",
       "    </tr>\n",
       "    <tr>\n",
       "      <th>2</th>\n",
       "      <td>abaisser</td>\n",
       "      <td>fi1P</td>\n",
       "      <td>3.0</td>\n",
       "      <td>68534.0</td>\n",
       "      <td>1</td>\n",
       "    </tr>\n",
       "    <tr>\n",
       "      <th>3</th>\n",
       "      <td>abaisser</td>\n",
       "      <td>fi1S</td>\n",
       "      <td>69.0</td>\n",
       "      <td>20166.0</td>\n",
       "      <td>1</td>\n",
       "    </tr>\n",
       "    <tr>\n",
       "      <th>4</th>\n",
       "      <td>abaisser</td>\n",
       "      <td>fi2P</td>\n",
       "      <td>3.0</td>\n",
       "      <td>68534.0</td>\n",
       "      <td>1</td>\n",
       "    </tr>\n",
       "  </tbody>\n",
       "</table>\n",
       "</div>"
      ],
      "text/plain": [
       "      lemme  case  occurrences  rangFWV  nb\n",
       "0  abaisser  ai2P          1.0  94631.0   1\n",
       "1  abaisser  ai3S          5.0  58201.5   1\n",
       "2  abaisser  fi1P          3.0  68534.0   1\n",
       "3  abaisser  fi1S         69.0  20166.0   1\n",
       "4  abaisser  fi2P          3.0  68534.0   1"
      ]
     },
     "execution_count": 59,
     "metadata": {},
     "output_type": "execute_result"
    }
   ],
   "source": [
    "dfL4LexCasesV.head()"
   ]
  },
  {
   "cell_type": "markdown",
   "metadata": {},
   "source": [
    "## Fréquence des lexèmes"
   ]
  },
  {
   "cell_type": "code",
   "execution_count": 60,
   "metadata": {},
   "outputs": [],
   "source": [
    "dfL4LexV=dfL4LexCasesV.groupby(\"lemme\")[[\"occurrences\"]].sum()"
   ]
  },
  {
   "cell_type": "code",
   "execution_count": 61,
   "metadata": {},
   "outputs": [],
   "source": [
    "dfL4LexV[\"rangFLV\"]=dfL4LexV[\"occurrences\"].rank(ascending=False)\n",
    "dfL4LexV=dfL4LexV.sort_values(\"rangFLV\").reset_index()"
   ]
  },
  {
   "cell_type": "code",
   "execution_count": 92,
   "metadata": {
    "scrolled": true
   },
   "outputs": [
    {
     "data": {
      "text/plain": [
       "<matplotlib.axes._subplots.AxesSubplot at 0x1a25fc3990>"
      ]
     },
     "execution_count": 92,
     "metadata": {},
     "output_type": "execute_result"
    },
    {
     "data": {
      "image/png": "[encoded data removed]",
      "text/plain": [
       "<Figure size 864x360 with 1 Axes>"
      ]
     },
     "metadata": {},
     "output_type": "display_data"
    }
   ],
   "source": [
    "dfL4LexV.set_index(\"lemme\")[\"occurrences\"].head(25).plot(kind=\"bar\",figsize=(12,5))"
   ]
  },
  {
   "cell_type": "code",
   "execution_count": 83,
   "metadata": {},
   "outputs": [
    {
     "name": "stdout",
     "output_type": "stream",
     "text": [
      "Coefficient général -2.70\n",
      "\tQ1 -1.49\n",
      "\tQ2 -2.74\n",
      "\tQ3 -5.52\n",
      "\tQ4 -10.28\n"
     ]
    },
    {
     "data": {
      "image/png": "[encoded data removed]",
      "text/plain": [
       "<Figure size 432x288 with 1 Axes>"
      ]
     },
     "metadata": {},
     "output_type": "display_data"
    }
   ],
   "source": [
    "plotZipf(dfL4LexV,\"rangFLV\",lQuartiles=\"Q1 Q4\".split(\" \"),graphLabel=u\"Lexèmes dans Films\")"
   ]
  },
  {
   "cell_type": "code",
   "execution_count": null,
   "metadata": {},
   "outputs": [],
   "source": []
  }
 ],
 "metadata": {
  "kernelspec": {
   "display_name": "Python 2",
   "language": "python",
   "name": "python2"
  },
  "language_info": {
   "codemirror_mode": {
    "name": "ipython",
    "version": 2
   },
   "file_extension": ".py",
   "mimetype": "text/x-python",
   "name": "python",
   "nbconvert_exporter": "python",
   "pygments_lexer": "ipython2",
   "version": "2.7.16"
  }
 },
 "nbformat": 4,
 "nbformat_minor": 2
}
